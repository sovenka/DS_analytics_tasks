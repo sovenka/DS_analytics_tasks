{
 "cells": [
  {
   "cell_type": "markdown",
   "metadata": {},
   "source": [
    "# Рекомендация тарифов"
   ]
  },
  {
   "cell_type": "markdown",
   "metadata": {},
   "source": [
    "В файле предоставлены данные о поведении клиентов, которые уже перешли тарифы телеком-компании. Нужно построить модель для задачи классификации, которая выберет подходящий тариф. Предобработка данных не понадобится — вы её уже сделали.\n",
    "\n",
    "Постройте модель с максимально большим значением *accuracy*. Чтобы сдать проект успешно, нужно довести долю правильных ответов по крайней мере до 0.75. Проверьте *accuracy* на тестовой выборке самостоятельно."
   ]
  },
  {
   "cell_type": "markdown",
   "metadata": {},
   "source": [
    "## Порядок исследования"
   ]
  },
  {
   "cell_type": "markdown",
   "metadata": {},
   "source": [
    "1. Открытие файла с данными и изучение.\n",
    "2. Разбитие данных на выборки: 25% тестовая выборка, из остатка в пропорции 75:25 - обучающая и валидационная выборка.\n",
    "3. Подбор оптимальной модели: тестирование параметров дерева реграссии, случайного леса и логистической модели.\n",
    "4. Применение модели к тестовой выборке.\n",
    "5. Проверка модели на адекватность.\n",
    "6. Общие выводы."
   ]
  },
  {
   "cell_type": "markdown",
   "metadata": {},
   "source": [
    "## Откройте и изучите файл"
   ]
  },
  {
   "cell_type": "code",
   "execution_count": 2,
   "metadata": {},
   "outputs": [],
   "source": [
    "#Импорт библиотек для дальнейшей работы\n",
    "import pandas as pd\n",
    "pd.options.display.float_format = '{:.2f}'.format \n",
    "#в дальнейшей таблице очень много знаков после запятой, ограраничим представление двумя.\n",
    "pd.set_option('display.max_columns', 50) \n",
    "pd.set_option('display.max_rows', 500) \n",
    "import matplotlib.pyplot as plt \n",
    "import numpy as np\n",
    "from scipy import stats as st \n",
    "from matplotlib import pyplot\n",
    "import seaborn as sns\n",
    "from matplotlib import cm\n",
    "import random\n",
    "\n",
    "from sklearn.tree import DecisionTreeClassifier\n",
    "from sklearn.metrics import accuracy_score\n",
    "from sklearn.ensemble import RandomForestClassifier\n",
    "from sklearn.linear_model import LogisticRegression\n"
   ]
  },
  {
   "cell_type": "code",
   "execution_count": 4,
   "metadata": {
    "scrolled": true
   },
   "outputs": [
    {
     "data": {
      "text/plain": [
       "RangeIndex(start=0, stop=3214, step=1)"
      ]
     },
     "execution_count": 4,
     "metadata": {},
     "output_type": "execute_result"
    }
   ],
   "source": [
    "#Импортируем файл с данными \n",
    "try:\n",
    "    data = pd.read_csv('/datasets/users_behavior.csv')\n",
    "except:\n",
    "    data = pd.read_csv('users_behavior.csv')\n",
    "    \n",
    "    #data.head()\n",
    "data.index"
   ]
  },
  {
   "cell_type": "markdown",
   "metadata": {},
   "source": [
    "В таблице представлены данные о числе звонков, сделанных в месяц, минутах телефонных разговоров, потраченных мб и сообщениях для пользователей тарифов (ультра и смарт). "
   ]
  },
  {
   "cell_type": "code",
   "execution_count": 5,
   "metadata": {
    "scrolled": true
   },
   "outputs": [
    {
     "name": "stdout",
     "output_type": "stream",
     "text": [
      "<class 'pandas.core.frame.DataFrame'>\n",
      "RangeIndex: 3214 entries, 0 to 3213\n",
      "Data columns (total 5 columns):\n",
      " #   Column    Non-Null Count  Dtype  \n",
      "---  ------    --------------  -----  \n",
      " 0   calls     3214 non-null   float64\n",
      " 1   minutes   3214 non-null   float64\n",
      " 2   messages  3214 non-null   float64\n",
      " 3   mb_used   3214 non-null   float64\n",
      " 4   is_ultra  3214 non-null   int64  \n",
      "dtypes: float64(4), int64(1)\n",
      "memory usage: 125.7 KB\n"
     ]
    }
   ],
   "source": [
    "data.info()"
   ]
  },
  {
   "cell_type": "markdown",
   "metadata": {},
   "source": [
    "В таблице 3214 записей, типы данных float"
   ]
  },
  {
   "cell_type": "code",
   "execution_count": 6,
   "metadata": {},
   "outputs": [
    {
     "data": {
      "text/plain": [
       "calls       0\n",
       "minutes     0\n",
       "messages    0\n",
       "mb_used     0\n",
       "is_ultra    0\n",
       "dtype: int64"
      ]
     },
     "execution_count": 6,
     "metadata": {},
     "output_type": "execute_result"
    }
   ],
   "source": [
    "data.isna().sum()"
   ]
  },
  {
   "cell_type": "markdown",
   "metadata": {},
   "source": [
    "Пропусков в данных не обнаружено"
   ]
  },
  {
   "cell_type": "code",
   "execution_count": 7,
   "metadata": {},
   "outputs": [
    {
     "data": {
      "text/plain": [
       "0"
      ]
     },
     "execution_count": 7,
     "metadata": {},
     "output_type": "execute_result"
    }
   ],
   "source": [
    "data.duplicated().sum()"
   ]
  },
  {
   "cell_type": "markdown",
   "metadata": {},
   "source": [
    "Дублирующихся строк не обнаружено"
   ]
  },
  {
   "cell_type": "code",
   "execution_count": 8,
   "metadata": {
    "scrolled": true
   },
   "outputs": [
    {
     "data": {
      "text/html": [
       "<div>\n",
       "<style scoped>\n",
       "    .dataframe tbody tr th:only-of-type {\n",
       "        vertical-align: middle;\n",
       "    }\n",
       "\n",
       "    .dataframe tbody tr th {\n",
       "        vertical-align: top;\n",
       "    }\n",
       "\n",
       "    .dataframe thead th {\n",
       "        text-align: right;\n",
       "    }\n",
       "</style>\n",
       "<table border=\"1\" class=\"dataframe\">\n",
       "  <thead>\n",
       "    <tr style=\"text-align: right;\">\n",
       "      <th></th>\n",
       "      <th>calls</th>\n",
       "      <th>minutes</th>\n",
       "      <th>messages</th>\n",
       "      <th>mb_used</th>\n",
       "      <th>is_ultra</th>\n",
       "    </tr>\n",
       "  </thead>\n",
       "  <tbody>\n",
       "    <tr>\n",
       "      <th>count</th>\n",
       "      <td>3214.00</td>\n",
       "      <td>3214.00</td>\n",
       "      <td>3214.00</td>\n",
       "      <td>3214.00</td>\n",
       "      <td>3214.00</td>\n",
       "    </tr>\n",
       "    <tr>\n",
       "      <th>mean</th>\n",
       "      <td>63.04</td>\n",
       "      <td>438.21</td>\n",
       "      <td>38.28</td>\n",
       "      <td>17207.67</td>\n",
       "      <td>0.31</td>\n",
       "    </tr>\n",
       "    <tr>\n",
       "      <th>std</th>\n",
       "      <td>33.24</td>\n",
       "      <td>234.57</td>\n",
       "      <td>36.15</td>\n",
       "      <td>7570.97</td>\n",
       "      <td>0.46</td>\n",
       "    </tr>\n",
       "    <tr>\n",
       "      <th>min</th>\n",
       "      <td>0.00</td>\n",
       "      <td>0.00</td>\n",
       "      <td>0.00</td>\n",
       "      <td>0.00</td>\n",
       "      <td>0.00</td>\n",
       "    </tr>\n",
       "    <tr>\n",
       "      <th>25%</th>\n",
       "      <td>40.00</td>\n",
       "      <td>274.58</td>\n",
       "      <td>9.00</td>\n",
       "      <td>12491.90</td>\n",
       "      <td>0.00</td>\n",
       "    </tr>\n",
       "    <tr>\n",
       "      <th>50%</th>\n",
       "      <td>62.00</td>\n",
       "      <td>430.60</td>\n",
       "      <td>30.00</td>\n",
       "      <td>16943.24</td>\n",
       "      <td>0.00</td>\n",
       "    </tr>\n",
       "    <tr>\n",
       "      <th>75%</th>\n",
       "      <td>82.00</td>\n",
       "      <td>571.93</td>\n",
       "      <td>57.00</td>\n",
       "      <td>21424.70</td>\n",
       "      <td>1.00</td>\n",
       "    </tr>\n",
       "    <tr>\n",
       "      <th>max</th>\n",
       "      <td>244.00</td>\n",
       "      <td>1632.06</td>\n",
       "      <td>224.00</td>\n",
       "      <td>49745.73</td>\n",
       "      <td>1.00</td>\n",
       "    </tr>\n",
       "  </tbody>\n",
       "</table>\n",
       "</div>"
      ],
      "text/plain": [
       "        calls  minutes  messages  mb_used  is_ultra\n",
       "count 3214.00  3214.00   3214.00  3214.00   3214.00\n",
       "mean    63.04   438.21     38.28 17207.67      0.31\n",
       "std     33.24   234.57     36.15  7570.97      0.46\n",
       "min      0.00     0.00      0.00     0.00      0.00\n",
       "25%     40.00   274.58      9.00 12491.90      0.00\n",
       "50%     62.00   430.60     30.00 16943.24      0.00\n",
       "75%     82.00   571.93     57.00 21424.70      1.00\n",
       "max    244.00  1632.06    224.00 49745.73      1.00"
      ]
     },
     "execution_count": 8,
     "metadata": {},
     "output_type": "execute_result"
    }
   ],
   "source": [
    "data.describe()"
   ]
  },
  {
   "cell_type": "markdown",
   "metadata": {},
   "source": [
    "Описание выборки выглядит правдоподобно: звонки, минуты и число сообщений не вызывают ужаса и неприятия. Судя по последнему столбцу, большее половины пользуется тарифом Smart"
   ]
  },
  {
   "cell_type": "markdown",
   "metadata": {},
   "source": [
    "## Разбейте данные на выборки"
   ]
  },
  {
   "cell_type": "markdown",
   "metadata": {},
   "source": [
    "Сначала выделим 25% выборки в тестовую. Оставшуюся часть поделим в отношении 75/25 как обучающую и валидационную (тогда в валидационной выборке остается более 600 записей)\n"
   ]
  },
  {
   "cell_type": "code",
   "execution_count": 9,
   "metadata": {},
   "outputs": [],
   "source": [
    "from sklearn.model_selection import train_test_split"
   ]
  },
  {
   "cell_type": "code",
   "execution_count": 10,
   "metadata": {},
   "outputs": [],
   "source": [
    "features = data.drop(['is_ultra'], axis = 1)# извлеките признаки \n",
    "target = data['is_ultra']\n",
    "#Извлекаем тестовую выборку из общей\n",
    "features_learn, features_test, target_learn, target_test = train_test_split(features, target, test_size=0.25, random_state=12345) # отделите 25% данных для валидационной выборки\n",
    "\n",
    "#Делим оставшуюся выборку на тренировочную и валидизирующую\n",
    "features_train, features_valid, target_train, target_valid = train_test_split(features_learn, target_learn, test_size=0.25, random_state=12345) # отделите 25% данных для валидационной выборки\n",
    "\n",
    "\n"
   ]
  },
  {
   "cell_type": "markdown",
   "metadata": {},
   "source": [
    "## Исследуйте модели"
   ]
  },
  {
   "cell_type": "markdown",
   "metadata": {},
   "source": [
    "Поскольку в данном случае у нас стоит задача классификации \"тариф ультра или нет\", будем оценивать модели по оценке accuracy"
   ]
  },
  {
   "cell_type": "markdown",
   "metadata": {},
   "source": [
    "Исследуем модель дерева решений"
   ]
  },
  {
   "cell_type": "code",
   "execution_count": 9,
   "metadata": {},
   "outputs": [
    {
     "data": {
      "text/plain": [
       "'Accuracy лучшей модели решающего дерева:0.7943615257048093, глубина: 3'"
      ]
     },
     "metadata": {},
     "output_type": "display_data"
    }
   ],
   "source": [
    "best_model = None\n",
    "best_result = 0\n",
    "final_depth = 0\n",
    "for depth in range(1, 10):\n",
    "    model = DecisionTreeClassifier(random_state=12345, max_depth = depth) # обучите модель с заданной глубиной дерева\n",
    "    model.fit(features_train, target_train) # обучите модель\n",
    "    predictions = model.predict(features_valid) # получите предсказания модели\n",
    "    result = accuracy_score(target_valid, predictions) # посчитайте качество модели\n",
    "    if result > best_result:\n",
    "        best_model = model\n",
    "        best_result = result\n",
    "        final_depth = depth\n",
    "        \n",
    "display(f'Accuracy лучшей модели решающего дерева:{best_result}, глубина: {final_depth}')"
   ]
  },
  {
   "cell_type": "markdown",
   "metadata": {},
   "source": [
    "Исследуем модель случайного леса "
   ]
  },
  {
   "cell_type": "code",
   "execution_count": 10,
   "metadata": {},
   "outputs": [
    {
     "data": {
      "text/plain": [
       "'Accuracy лучшей модели случайного леса:0.8208955223880597, глубина: 9, число деревьев: 9'"
      ]
     },
     "metadata": {},
     "output_type": "display_data"
    }
   ],
   "source": [
    "best_model = None\n",
    "best_result = 0\n",
    "final_depth = 0\n",
    "estimators = 0\n",
    "for depth in range(1, 10):\n",
    "    for est in range(1, 11):\n",
    "        model = model = RandomForestClassifier(random_state=12345, n_estimators= est, max_depth = depth) # обучите модель с заданной глубиной дерева\n",
    "        model.fit(features_train, target_train) # обучите модель\n",
    "        predictions = model.predict(features_valid) # получите предсказания модели\n",
    "        result = accuracy_score(target_valid, predictions) # посчитайте качество модели\n",
    "        if result > best_result:\n",
    "            best_model = model\n",
    "            best_result = result\n",
    "            final_depth = depth\n",
    "            estimators = est\n",
    "        \n",
    "display(f'Accuracy лучшей модели случайного леса:{best_result}, глубина: {final_depth}, число деревьев: {estimators}')\n",
    "    "
   ]
  },
  {
   "cell_type": "markdown",
   "metadata": {},
   "source": [
    "Исследуем модель логистической регрессии"
   ]
  },
  {
   "cell_type": "code",
   "execution_count": 21,
   "metadata": {
    "scrolled": true
   },
   "outputs": [
    {
     "name": "stdout",
     "output_type": "stream",
     "text": [
      "Accuracy лучшей модели логистической регрессии:0.7412935323383084\n"
     ]
    }
   ],
   "source": [
    "model = LogisticRegression(random_state=12345, solver='lbfgs', max_iter=1000)\n",
    "model.fit(features_train, target_train)\n",
    "model.predict(features_valid)\n",
    "print(f'Accuracy лучшей модели логистической регрессии:{model.score(features_valid, target_valid)}')\n"
   ]
  },
  {
   "cell_type": "markdown",
   "metadata": {},
   "source": [
    "Вывод: лучшие показатели из всех моделей дала  модель случайного леса глубиной 9 с числом деревьев 9. Будем использовать ее. "
   ]
  },
  {
   "cell_type": "markdown",
   "metadata": {},
   "source": [
    "## Проверьте модель на тестовой выборке"
   ]
  },
  {
   "cell_type": "code",
   "execution_count": 12,
   "metadata": {},
   "outputs": [
    {
     "data": {
      "text/plain": [
       "'Accuracy модели случайного леса по тестовой выборке: 0.7960199004975125'"
      ]
     },
     "metadata": {},
     "output_type": "display_data"
    }
   ],
   "source": [
    "model = RandomForestClassifier(random_state=12345, n_estimators= est, max_depth = depth) # обучите модель с заданной глубиной дерева\n",
    "model.fit(features_train, target_train) # обучите модель\n",
    "predictions = model.predict(features_test) # получите предсказания модели\n",
    "result = accuracy_score(target_test, predictions) # посчитайте качество модели\n",
    "display(f'Accuracy модели случайного леса по тестовой выборке: {result}')"
   ]
  },
  {
   "cell_type": "markdown",
   "metadata": {},
   "source": [
    "Вывод: модель случайного леса показала результаты хуже, чем на валидационной выборке, но все же лучше, чем 0,75, которые заданы нам как критерий отбора модели. "
   ]
  },
  {
   "cell_type": "markdown",
   "metadata": {},
   "source": [
    "## (бонус) Проверьте модели на адекватность"
   ]
  },
  {
   "cell_type": "markdown",
   "metadata": {},
   "source": [
    "Проверка модели на адекватность: сравним accuracy выбранной нам модели по тестовой выборке (0,79) с accuracy случайно взятого значения по тестовой выборке.\n"
   ]
  },
  {
   "cell_type": "code",
   "execution_count": 22,
   "metadata": {
    "scrolled": false
   },
   "outputs": [
    {
     "name": "stderr",
     "output_type": "stream",
     "text": [
      "/tmp/ipykernel_79/324787951.py:1: DeprecationWarning: The default dtype for empty Series will be 'object' instead of 'float64' in a future version. Specify a dtype explicitly to silence this warning.\n",
      "  random_predictions = pd.Series(index=target_test.index)\n"
     ]
    },
    {
     "data": {
      "text/plain": [
       "'Accuracy случайно выбранного тарифа по тестовой выборке: 0.4937810945273632'"
      ]
     },
     "metadata": {},
     "output_type": "display_data"
    }
   ],
   "source": [
    "random_predictions = pd.Series(index=target_test.index)\n",
    "\n",
    "for i in random_predictions.index:\n",
    "    random_predictions[i] = random.randint(0, 1)\n",
    "random_predictions\n",
    "\n",
    "\n",
    "result = accuracy_score(target_test, random_predictions)\n",
    "display(f'Accuracy случайно выбранного тарифа по тестовой выборке: {result}')"
   ]
  },
  {
   "cell_type": "markdown",
   "metadata": {},
   "source": [
    "Вывод: все наши модели являются адекватными."
   ]
  },
  {
   "cell_type": "markdown",
   "metadata": {},
   "source": [
    "## Общий вывод"
   ]
  },
  {
   "cell_type": "markdown",
   "metadata": {},
   "source": [
    "Для предсказания, какой тариф следует предложить пользователю, можно выбрать обученную модель типа случайный лес, с 9 estimators, с глубиной 9. На тестовой выборке эта модель показала accuracy: 0.79 (что больше заданного критерия в 0,75). "
   ]
  }
 ],
 "metadata": {
  "ExecuteTimeLog": [
   {
    "duration": 1540,
    "start_time": "2022-07-14T11:06:48.992Z"
   },
   {
    "duration": 82,
    "start_time": "2022-07-14T11:07:26.574Z"
   },
   {
    "duration": 7,
    "start_time": "2022-07-14T11:09:25.620Z"
   },
   {
    "duration": 7,
    "start_time": "2022-07-14T11:10:05.421Z"
   },
   {
    "duration": 37,
    "start_time": "2022-07-14T11:10:54.904Z"
   },
   {
    "duration": 97,
    "start_time": "2022-07-14T11:18:06.848Z"
   },
   {
    "duration": 81,
    "start_time": "2022-07-14T11:18:15.411Z"
   },
   {
    "duration": 104,
    "start_time": "2022-07-14T11:18:42.100Z"
   },
   {
    "duration": 5,
    "start_time": "2022-07-14T11:19:10.683Z"
   },
   {
    "duration": 37,
    "start_time": "2022-07-14T11:19:13.104Z"
   },
   {
    "duration": 8,
    "start_time": "2022-07-14T11:19:14.815Z"
   },
   {
    "duration": 54,
    "start_time": "2022-07-14T11:19:17.224Z"
   },
   {
    "duration": 78,
    "start_time": "2022-07-14T11:24:23.075Z"
   },
   {
    "duration": 79,
    "start_time": "2022-07-14T11:24:30.517Z"
   },
   {
    "duration": 16,
    "start_time": "2022-07-14T11:24:49.294Z"
   },
   {
    "duration": 4,
    "start_time": "2022-07-14T11:24:57.316Z"
   },
   {
    "duration": 1384,
    "start_time": "2022-07-14T11:25:01.480Z"
   },
   {
    "duration": 5,
    "start_time": "2022-07-14T11:25:51.668Z"
   },
   {
    "duration": 35,
    "start_time": "2022-07-14T11:27:28.057Z"
   },
   {
    "duration": 32,
    "start_time": "2022-07-14T11:27:34.880Z"
   },
   {
    "duration": 16,
    "start_time": "2022-07-14T11:27:36.860Z"
   },
   {
    "duration": 32,
    "start_time": "2022-07-14T11:27:39.520Z"
   },
   {
    "duration": 227,
    "start_time": "2022-07-14T11:29:43.248Z"
   },
   {
    "duration": 36,
    "start_time": "2022-07-14T11:29:48.340Z"
   },
   {
    "duration": 10,
    "start_time": "2022-07-14T11:34:15.368Z"
   },
   {
    "duration": 6,
    "start_time": "2022-07-14T11:34:22.588Z"
   },
   {
    "duration": 3,
    "start_time": "2022-07-14T11:35:16.796Z"
   },
   {
    "duration": 5,
    "start_time": "2022-07-14T11:35:22.368Z"
   },
   {
    "duration": 5,
    "start_time": "2022-07-14T11:35:31.959Z"
   },
   {
    "duration": 7,
    "start_time": "2022-07-14T11:37:06.428Z"
   },
   {
    "duration": 6,
    "start_time": "2022-07-14T11:37:21.624Z"
   },
   {
    "duration": 266,
    "start_time": "2022-07-14T11:37:55.432Z"
   },
   {
    "duration": 259,
    "start_time": "2022-07-14T11:38:07.111Z"
   },
   {
    "duration": 251,
    "start_time": "2022-07-14T11:38:13.284Z"
   },
   {
    "duration": 248,
    "start_time": "2022-07-14T11:38:30.923Z"
   },
   {
    "duration": 273,
    "start_time": "2022-07-14T11:38:53.167Z"
   },
   {
    "duration": 247,
    "start_time": "2022-07-14T11:38:59.096Z"
   },
   {
    "duration": 257,
    "start_time": "2022-07-14T11:39:05.712Z"
   },
   {
    "duration": 287,
    "start_time": "2022-07-14T11:39:17.111Z"
   },
   {
    "duration": 125,
    "start_time": "2022-07-14T11:39:33.620Z"
   },
   {
    "duration": 11,
    "start_time": "2022-07-14T11:39:43.055Z"
   },
   {
    "duration": 94,
    "start_time": "2022-07-14T11:39:50.967Z"
   },
   {
    "duration": 260,
    "start_time": "2022-07-14T11:39:54.360Z"
   },
   {
    "duration": 15,
    "start_time": "2022-07-14T11:40:51.815Z"
   },
   {
    "duration": 10,
    "start_time": "2022-07-14T11:41:59.211Z"
   },
   {
    "duration": 75,
    "start_time": "2022-07-14T11:43:06.251Z"
   },
   {
    "duration": 31,
    "start_time": "2022-07-14T11:43:59.216Z"
   },
   {
    "duration": 13,
    "start_time": "2022-07-14T11:44:06.048Z"
   },
   {
    "duration": 12,
    "start_time": "2022-07-14T11:44:14.586Z"
   },
   {
    "duration": 6,
    "start_time": "2022-07-14T11:44:18.353Z"
   },
   {
    "duration": 10,
    "start_time": "2022-07-14T11:44:36.719Z"
   },
   {
    "duration": 13,
    "start_time": "2022-07-14T11:44:45.023Z"
   },
   {
    "duration": 6,
    "start_time": "2022-07-14T11:46:32.763Z"
   },
   {
    "duration": 6,
    "start_time": "2022-07-14T11:47:22.822Z"
   },
   {
    "duration": 6,
    "start_time": "2022-07-14T11:47:28.824Z"
   },
   {
    "duration": 9,
    "start_time": "2022-07-14T11:47:55.776Z"
   },
   {
    "duration": 19,
    "start_time": "2022-07-14T11:47:59.613Z"
   },
   {
    "duration": 8,
    "start_time": "2022-07-14T11:50:46.608Z"
   },
   {
    "duration": 57,
    "start_time": "2022-07-14T11:50:52.832Z"
   },
   {
    "duration": 1328,
    "start_time": "2022-07-14T11:50:59.361Z"
   },
   {
    "duration": 51,
    "start_time": "2022-07-14T11:51:08.754Z"
   },
   {
    "duration": 75,
    "start_time": "2022-07-14T11:52:23.221Z"
   },
   {
    "duration": 10,
    "start_time": "2022-07-14T11:52:28.549Z"
   },
   {
    "duration": 3,
    "start_time": "2022-07-14T11:55:09.946Z"
   },
   {
    "duration": 99,
    "start_time": "2022-07-14T11:57:26.202Z"
   },
   {
    "duration": 5,
    "start_time": "2022-07-14T11:57:42.406Z"
   },
   {
    "duration": 57,
    "start_time": "2022-07-14T11:58:02.621Z"
   },
   {
    "duration": 102,
    "start_time": "2022-07-14T12:27:10.064Z"
   },
   {
    "duration": 2436,
    "start_time": "2022-07-15T10:34:19.130Z"
   },
   {
    "duration": 84,
    "start_time": "2022-07-15T10:34:21.568Z"
   },
   {
    "duration": 13,
    "start_time": "2022-07-15T10:34:21.654Z"
   },
   {
    "duration": 8,
    "start_time": "2022-07-15T10:34:21.668Z"
   },
   {
    "duration": 6,
    "start_time": "2022-07-15T10:34:21.679Z"
   },
   {
    "duration": 23,
    "start_time": "2022-07-15T10:34:21.687Z"
   },
   {
    "duration": 128,
    "start_time": "2022-07-15T10:34:21.712Z"
   },
   {
    "duration": 0,
    "start_time": "2022-07-15T10:34:21.842Z"
   },
   {
    "duration": 0,
    "start_time": "2022-07-15T10:34:21.844Z"
   },
   {
    "duration": 0,
    "start_time": "2022-07-15T10:34:21.846Z"
   },
   {
    "duration": 0,
    "start_time": "2022-07-15T10:34:21.848Z"
   },
   {
    "duration": 0,
    "start_time": "2022-07-15T10:34:21.849Z"
   },
   {
    "duration": 0,
    "start_time": "2022-07-15T10:34:21.851Z"
   },
   {
    "duration": 2166,
    "start_time": "2022-07-15T10:36:20.305Z"
   },
   {
    "duration": 39,
    "start_time": "2022-07-15T10:36:22.473Z"
   },
   {
    "duration": 11,
    "start_time": "2022-07-15T10:36:22.514Z"
   },
   {
    "duration": 10,
    "start_time": "2022-07-15T10:36:22.527Z"
   },
   {
    "duration": 7,
    "start_time": "2022-07-15T10:36:22.539Z"
   },
   {
    "duration": 22,
    "start_time": "2022-07-15T10:36:22.547Z"
   },
   {
    "duration": 3,
    "start_time": "2022-07-15T10:36:22.570Z"
   },
   {
    "duration": 36,
    "start_time": "2022-07-15T10:36:22.574Z"
   },
   {
    "duration": 59,
    "start_time": "2022-07-15T10:36:22.612Z"
   },
   {
    "duration": 1474,
    "start_time": "2022-07-15T10:36:22.673Z"
   },
   {
    "duration": 35,
    "start_time": "2022-07-15T10:36:24.148Z"
   },
   {
    "duration": 53,
    "start_time": "2022-07-15T10:36:24.185Z"
   },
   {
    "duration": 11,
    "start_time": "2022-07-15T10:36:24.239Z"
   },
   {
    "duration": 161,
    "start_time": "2022-07-15T10:36:24.253Z"
   },
   {
    "duration": 4,
    "start_time": "2022-07-15T10:38:36.171Z"
   },
   {
    "duration": 10,
    "start_time": "2022-07-15T10:38:38.284Z"
   },
   {
    "duration": 7,
    "start_time": "2022-07-15T10:38:39.111Z"
   },
   {
    "duration": 7,
    "start_time": "2022-07-15T10:38:40.610Z"
   },
   {
    "duration": 22,
    "start_time": "2022-07-15T10:38:42.340Z"
   },
   {
    "duration": 2,
    "start_time": "2022-07-15T10:38:47.941Z"
   },
   {
    "duration": 35,
    "start_time": "2022-07-15T10:38:52.739Z"
   },
   {
    "duration": 11,
    "start_time": "2022-07-15T10:38:54.104Z"
   },
   {
    "duration": 47,
    "start_time": "2022-08-09T16:46:42.022Z"
   },
   {
    "duration": 1562,
    "start_time": "2022-08-09T16:46:46.362Z"
   },
   {
    "duration": 117,
    "start_time": "2022-08-09T16:46:48.418Z"
   },
   {
    "duration": 93,
    "start_time": "2022-08-09T16:46:52.738Z"
   },
   {
    "duration": 31,
    "start_time": "2022-08-09T16:46:56.389Z"
   }
  ],
  "kernelspec": {
   "display_name": "Python 3 (ipykernel)",
   "language": "python",
   "name": "python3"
  },
  "language_info": {
   "codemirror_mode": {
    "name": "ipython",
    "version": 3
   },
   "file_extension": ".py",
   "mimetype": "text/x-python",
   "name": "python",
   "nbconvert_exporter": "python",
   "pygments_lexer": "ipython3",
   "version": "3.9.12"
  },
  "toc": {
   "base_numbering": 1,
   "nav_menu": {},
   "number_sections": true,
   "sideBar": true,
   "skip_h1_title": true,
   "title_cell": "Table of Contents",
   "title_sidebar": "Contents",
   "toc_cell": false,
   "toc_position": {},
   "toc_section_display": true,
   "toc_window_display": false
  }
 },
 "nbformat": 4,
 "nbformat_minor": 2
}
