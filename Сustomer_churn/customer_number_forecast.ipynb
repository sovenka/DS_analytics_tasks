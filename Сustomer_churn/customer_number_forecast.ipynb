{
 "cells": [
  {
   "cell_type": "markdown",
   "metadata": {
    "toc": true
   },
   "source": [
    "<h1>Содержание<span class=\"tocSkip\"></span></h1>\n",
    "<div class=\"toc\"><ul class=\"toc-item\"><li><span><a href=\"#Подготовка-данных\" data-toc-modified-id=\"Подготовка-данных-1\"><span class=\"toc-item-num\">1&nbsp;&nbsp;</span>Подготовка данных</a></span><ul class=\"toc-item\"><li><span><a href=\"#Исследование-данных-на-предмет-пропусков,-дубликатов,-явных-ошибок\" data-toc-modified-id=\"Исследование-данных-на-предмет-пропусков,-дубликатов,-явных-ошибок-1.1\"><span class=\"toc-item-num\">1.1&nbsp;&nbsp;</span>Исследование данных на предмет пропусков, дубликатов, явных ошибок</a></span></li><li><span><a href=\"#Подготовка-категориальных-данных-методом-OHE\" data-toc-modified-id=\"Подготовка-категориальных-данных-методом-OHE-1.2\"><span class=\"toc-item-num\">1.2&nbsp;&nbsp;</span>Подготовка категориальных данных методом OHE</a></span></li><li><span><a href=\"#Разделение-на-тестовую-и-учебную-выборки\" data-toc-modified-id=\"Разделение-на-тестовую-и-учебную-выборки-1.3\"><span class=\"toc-item-num\">1.3&nbsp;&nbsp;</span>Разделение на тестовую и учебную выборки</a></span></li><li><span><a href=\"#Разделение-учебной-выборки-на-тренировочную-и-валидационную\" data-toc-modified-id=\"Разделение-учебной-выборки-на-тренировочную-и-валидационную-1.4\"><span class=\"toc-item-num\">1.4&nbsp;&nbsp;</span>Разделение учебной выборки на тренировочную и валидационную</a></span></li><li><span><a href=\"#Стандартизация-признаков\" data-toc-modified-id=\"Стандартизация-признаков-1.5\"><span class=\"toc-item-num\">1.5&nbsp;&nbsp;</span>Стандартизация признаков</a></span></li></ul></li><li><span><a href=\"#Исследование-задачи\" data-toc-modified-id=\"Исследование-задачи-2\"><span class=\"toc-item-num\">2&nbsp;&nbsp;</span>Исследование задачи</a></span><ul class=\"toc-item\"><li><span><a href=\"#Применение-дерева-решений\" data-toc-modified-id=\"Применение-дерева-решений-2.1\"><span class=\"toc-item-num\">2.1&nbsp;&nbsp;</span>Применение дерева решений</a></span></li><li><span><a href=\"#Применение-логистической-регрессии\" data-toc-modified-id=\"Применение-логистической-регрессии-2.2\"><span class=\"toc-item-num\">2.2&nbsp;&nbsp;</span>Применение логистической регрессии</a></span></li><li><span><a href=\"#Применение-случайного-леса\" data-toc-modified-id=\"Применение-случайного-леса-2.3\"><span class=\"toc-item-num\">2.3&nbsp;&nbsp;</span>Применение случайного леса</a></span></li><li><span><a href=\"#Поиск-оптимальных-параметров-случайного-леса\" data-toc-modified-id=\"Поиск-оптимальных-параметров-случайного-леса-2.4\"><span class=\"toc-item-num\">2.4&nbsp;&nbsp;</span>Поиск оптимальных параметров случайного леса</a></span></li></ul></li><li><span><a href=\"#Борьба-с-дисбалансом\" data-toc-modified-id=\"Борьба-с-дисбалансом-3\"><span class=\"toc-item-num\">3&nbsp;&nbsp;</span>Борьба с дисбалансом</a></span><ul class=\"toc-item\"><li><span><a href=\"#Взвешивание-классов\" data-toc-modified-id=\"Взвешивание-классов-3.1\"><span class=\"toc-item-num\">3.1&nbsp;&nbsp;</span>Взвешивание классов</a></span></li><li><span><a href=\"#Попробуем-увеличение-выборки\" data-toc-modified-id=\"Попробуем-увеличение-выборки-3.2\"><span class=\"toc-item-num\">3.2&nbsp;&nbsp;</span>Попробуем увеличение выборки</a></span></li><li><span><a href=\"#Попробуем-уменьшение-выборки\" data-toc-modified-id=\"Попробуем-уменьшение-выборки-3.3\"><span class=\"toc-item-num\">3.3&nbsp;&nbsp;</span>Попробуем уменьшение выборки</a></span></li></ul></li><li><span><a href=\"#Тестирование-модели\" data-toc-modified-id=\"Тестирование-модели-4\"><span class=\"toc-item-num\">4&nbsp;&nbsp;</span>Тестирование модели</a></span></li><li><span><a href=\"#Выводы\" data-toc-modified-id=\"Выводы-5\"><span class=\"toc-item-num\">5&nbsp;&nbsp;</span>Выводы</a></span></li></ul></div>"
   ]
  },
  {
   "cell_type": "markdown",
   "metadata": {},
   "source": [
    "# Отток клиентов"
   ]
  },
  {
   "cell_type": "markdown",
   "metadata": {},
   "source": [
    "Из «Бета-Банка» стали уходить клиенты. Банковские маркетологи посчитали: сохранять текущих клиентов дешевле, чем привлекать новых.\n",
    "\n",
    "Нужно спрогнозировать, уйдёт клиент из банка в ближайшее время или нет. Вам предоставлены исторические данные о поведении клиентов и расторжении договоров с банком. \n",
    "\n",
    "Задача: построить модель  с предельно большим значением *F1*-меры (0.59). Проверьте *F1*-меру на тестовой выборке самостоятельно. Измерить *AUC-ROC* метрику. \n",
    "\n",
    "Источник данных: [https://www.kaggle.com/barelydedicated/bank-customer-churn-modeling](https://www.kaggle.com/barelydedicated/bank-customer-churn-modeling)"
   ]
  },
  {
   "cell_type": "markdown",
   "metadata": {},
   "source": [
    "**План работ:**  \n",
    "1. Подготовка данных:   <br>\n",
    "    1.1. Исследование данных на предмет пропусков, дубликатов, явных ошибок.<br>\n",
    "    1.2. Подготовка категориальных данных методом OHE<br>\n",
    "    1.3. Стандартизация признаков.<br>\n",
    "    1.4. Разделение данных на тестовые и учебные.<br>\n",
    "    1.5. Разделение  учебных данных на тренировочные и валидационные. <br>\n",
    "2. Исследование задачи<br>\n",
    "    2.1. Применение дерева решений<br>\n",
    "    2.2. Применение логистической регрессии<br>\n",
    "    2.3. Применение случайного леса.<br>\n",
    "    2.4. Поиск наилучших параметров случайного леса.  <br>\n",
    "3. Борьба с дисбалансом<br>\n",
    "    3.1. Взвешивание классов<br>\n",
    "    3.2. Увеличение выборки<br>\n",
    "    3.3. Уменьшение выборки<br>\n",
    "4. Тестиование оптимальной модели<br>\n",
    "5. Выводы\n",
    "        "
   ]
  },
  {
   "cell_type": "markdown",
   "metadata": {},
   "source": [
    "## Подготовка данных"
   ]
  },
  {
   "cell_type": "markdown",
   "metadata": {},
   "source": [
    "### Исследование данных на предмет пропусков, дубликатов, явных ошибок"
   ]
  },
  {
   "cell_type": "code",
   "execution_count": 1,
   "metadata": {},
   "outputs": [
    {
     "name": "stderr",
     "output_type": "stream",
     "text": [
      "C:\\Users\\lenovo\\AppData\\Local\\Temp\\ipykernel_19200\\463960154.py:12: DeprecationWarning: Importing display from IPython.core.display is deprecated since IPython 7.14, please import from IPython display\n",
      "  from IPython.core.display import display, HTML\n"
     ]
    },
    {
     "data": {
      "text/html": [
       "<style>.container { width:90% !important; }</style>"
      ],
      "text/plain": [
       "<IPython.core.display.HTML object>"
      ]
     },
     "metadata": {},
     "output_type": "display_data"
    }
   ],
   "source": [
    "#Импорт библиотек для дальнейшей работы\n",
    "import pandas as pd\n",
    "#import pandas_profiling\n",
    "import numpy as np\n",
    "\n",
    "pd.options.display.float_format = '{:.2f}'.format \n",
    "#в дальнейшей таблице очень много знаков после запятой, ограраничим представление двумя.\n",
    "\n",
    "pd.set_option('display.max_columns', 50) \n",
    "pd.set_option('display.max_rows', 500) \n",
    "\n",
    "from IPython.core.display import display, HTML\n",
    "display(HTML(\"<style>.container { width:90% !important; }</style>\"))\n",
    "\n",
    "\n",
    "import matplotlib.pyplot as plt \n",
    "import numpy as np\n",
    "from scipy import stats as st \n",
    "from matplotlib import pyplot\n",
    "import seaborn as sns\n",
    "from matplotlib import cm\n",
    "import random\n",
    "\n",
    "from sklearn.tree import DecisionTreeClassifier\n",
    "from sklearn.metrics import accuracy_score\n",
    "from sklearn.ensemble import RandomForestClassifier\n",
    "from sklearn.linear_model import LogisticRegression\n",
    "from sklearn.model_selection import train_test_split\n",
    "from sklearn.linear_model import LinearRegression\n",
    "from sklearn.metrics import mean_absolute_error\n",
    "from sklearn.preprocessing import StandardScaler\n",
    "from sklearn.metrics import f1_score\n",
    "from sklearn.utils import shuffle\n",
    "from sklearn.metrics import roc_auc_score "
   ]
  },
  {
   "cell_type": "code",
   "execution_count": 19,
   "metadata": {
    "scrolled": false
   },
   "outputs": [
    {
     "data": {
      "text/html": [
       "<div>\n",
       "<style scoped>\n",
       "    .dataframe tbody tr th:only-of-type {\n",
       "        vertical-align: middle;\n",
       "    }\n",
       "\n",
       "    .dataframe tbody tr th {\n",
       "        vertical-align: top;\n",
       "    }\n",
       "\n",
       "    .dataframe thead th {\n",
       "        text-align: right;\n",
       "    }\n",
       "</style>\n",
       "<table border=\"1\" class=\"dataframe\">\n",
       "  <thead>\n",
       "    <tr style=\"text-align: right;\">\n",
       "      <th></th>\n",
       "      <th>RowNumber</th>\n",
       "      <th>CustomerId</th>\n",
       "      <th>Surname</th>\n",
       "      <th>CreditScore</th>\n",
       "      <th>Geography</th>\n",
       "      <th>Gender</th>\n",
       "      <th>Age</th>\n",
       "      <th>Tenure</th>\n",
       "      <th>Balance</th>\n",
       "      <th>NumOfProducts</th>\n",
       "      <th>HasCrCard</th>\n",
       "      <th>IsActiveMember</th>\n",
       "      <th>EstimatedSalary</th>\n",
       "      <th>Exited</th>\n",
       "    </tr>\n",
       "  </thead>\n",
       "  <tbody>\n",
       "    <tr>\n",
       "      <th>0</th>\n",
       "      <td>1</td>\n",
       "      <td>15634602</td>\n",
       "      <td>Hargrave</td>\n",
       "      <td>619</td>\n",
       "      <td>France</td>\n",
       "      <td>Female</td>\n",
       "      <td>42</td>\n",
       "      <td>2.00</td>\n",
       "      <td>0.00</td>\n",
       "      <td>1</td>\n",
       "      <td>1</td>\n",
       "      <td>1</td>\n",
       "      <td>101348.88</td>\n",
       "      <td>1</td>\n",
       "    </tr>\n",
       "    <tr>\n",
       "      <th>1</th>\n",
       "      <td>2</td>\n",
       "      <td>15647311</td>\n",
       "      <td>Hill</td>\n",
       "      <td>608</td>\n",
       "      <td>Spain</td>\n",
       "      <td>Female</td>\n",
       "      <td>41</td>\n",
       "      <td>1.00</td>\n",
       "      <td>83807.86</td>\n",
       "      <td>1</td>\n",
       "      <td>0</td>\n",
       "      <td>1</td>\n",
       "      <td>112542.58</td>\n",
       "      <td>0</td>\n",
       "    </tr>\n",
       "    <tr>\n",
       "      <th>2</th>\n",
       "      <td>3</td>\n",
       "      <td>15619304</td>\n",
       "      <td>Onio</td>\n",
       "      <td>502</td>\n",
       "      <td>France</td>\n",
       "      <td>Female</td>\n",
       "      <td>42</td>\n",
       "      <td>8.00</td>\n",
       "      <td>159660.80</td>\n",
       "      <td>3</td>\n",
       "      <td>1</td>\n",
       "      <td>0</td>\n",
       "      <td>113931.57</td>\n",
       "      <td>1</td>\n",
       "    </tr>\n",
       "    <tr>\n",
       "      <th>3</th>\n",
       "      <td>4</td>\n",
       "      <td>15701354</td>\n",
       "      <td>Boni</td>\n",
       "      <td>699</td>\n",
       "      <td>France</td>\n",
       "      <td>Female</td>\n",
       "      <td>39</td>\n",
       "      <td>1.00</td>\n",
       "      <td>0.00</td>\n",
       "      <td>2</td>\n",
       "      <td>0</td>\n",
       "      <td>0</td>\n",
       "      <td>93826.63</td>\n",
       "      <td>0</td>\n",
       "    </tr>\n",
       "    <tr>\n",
       "      <th>4</th>\n",
       "      <td>5</td>\n",
       "      <td>15737888</td>\n",
       "      <td>Mitchell</td>\n",
       "      <td>850</td>\n",
       "      <td>Spain</td>\n",
       "      <td>Female</td>\n",
       "      <td>43</td>\n",
       "      <td>2.00</td>\n",
       "      <td>125510.82</td>\n",
       "      <td>1</td>\n",
       "      <td>1</td>\n",
       "      <td>1</td>\n",
       "      <td>79084.10</td>\n",
       "      <td>0</td>\n",
       "    </tr>\n",
       "  </tbody>\n",
       "</table>\n",
       "</div>"
      ],
      "text/plain": [
       "   RowNumber  CustomerId   Surname  CreditScore Geography  Gender  Age  \\\n",
       "0          1    15634602  Hargrave          619    France  Female   42   \n",
       "1          2    15647311      Hill          608     Spain  Female   41   \n",
       "2          3    15619304      Onio          502    France  Female   42   \n",
       "3          4    15701354      Boni          699    France  Female   39   \n",
       "4          5    15737888  Mitchell          850     Spain  Female   43   \n",
       "\n",
       "   Tenure   Balance  NumOfProducts  HasCrCard  IsActiveMember  \\\n",
       "0    2.00      0.00              1          1               1   \n",
       "1    1.00  83807.86              1          0               1   \n",
       "2    8.00 159660.80              3          1               0   \n",
       "3    1.00      0.00              2          0               0   \n",
       "4    2.00 125510.82              1          1               1   \n",
       "\n",
       "   EstimatedSalary  Exited  \n",
       "0        101348.88       1  \n",
       "1        112542.58       0  \n",
       "2        113931.57       1  \n",
       "3         93826.63       0  \n",
       "4         79084.10       0  "
      ]
     },
     "execution_count": 19,
     "metadata": {},
     "output_type": "execute_result"
    }
   ],
   "source": [
    "try:\n",
    "    data = pd.read_csv('/datasets/Churn.csv')\n",
    "except:\n",
    "    data = pd.read_csv('Churn.csv')\n",
    "    \n",
    "data.head()"
   ]
  },
  {
   "cell_type": "code",
   "execution_count": 20,
   "metadata": {},
   "outputs": [
    {
     "data": {
      "text/plain": [
       "(10000, 14)"
      ]
     },
     "execution_count": 20,
     "metadata": {},
     "output_type": "execute_result"
    }
   ],
   "source": [
    "data.shape"
   ]
  },
  {
   "cell_type": "markdown",
   "metadata": {},
   "source": [
    "У нас на рассмотрении таблица в 10 000 строк. "
   ]
  },
  {
   "cell_type": "code",
   "execution_count": 21,
   "metadata": {
    "scrolled": false
   },
   "outputs": [
    {
     "name": "stdout",
     "output_type": "stream",
     "text": [
      "<class 'pandas.core.frame.DataFrame'>\n",
      "RangeIndex: 10000 entries, 0 to 9999\n",
      "Data columns (total 14 columns):\n",
      " #   Column           Non-Null Count  Dtype  \n",
      "---  ------           --------------  -----  \n",
      " 0   RowNumber        10000 non-null  int64  \n",
      " 1   CustomerId       10000 non-null  int64  \n",
      " 2   Surname          10000 non-null  object \n",
      " 3   CreditScore      10000 non-null  int64  \n",
      " 4   Geography        10000 non-null  object \n",
      " 5   Gender           10000 non-null  object \n",
      " 6   Age              10000 non-null  int64  \n",
      " 7   Tenure           9091 non-null   float64\n",
      " 8   Balance          10000 non-null  float64\n",
      " 9   NumOfProducts    10000 non-null  int64  \n",
      " 10  HasCrCard        10000 non-null  int64  \n",
      " 11  IsActiveMember   10000 non-null  int64  \n",
      " 12  EstimatedSalary  10000 non-null  float64\n",
      " 13  Exited           10000 non-null  int64  \n",
      "dtypes: float64(3), int64(8), object(3)\n",
      "memory usage: 1.1+ MB\n"
     ]
    }
   ],
   "source": [
    "data.info()"
   ]
  },
  {
   "cell_type": "markdown",
   "metadata": {},
   "source": [
    "Среди всех данных категорийными, требующими перевода в численными являются Geography, Gender. Также из обработки можно в будущем удалить Surname (фамилия человека на его кредитоспособность никак не влияет). "
   ]
  },
  {
   "cell_type": "code",
   "execution_count": 22,
   "metadata": {
    "scrolled": true
   },
   "outputs": [
    {
     "data": {
      "text/plain": [
       "RowNumber         0.00\n",
       "CustomerId        0.00\n",
       "Surname           0.00\n",
       "CreditScore       0.00\n",
       "Geography         0.00\n",
       "Gender            0.00\n",
       "Age               0.00\n",
       "Tenure            0.09\n",
       "Balance           0.00\n",
       "NumOfProducts     0.00\n",
       "HasCrCard         0.00\n",
       "IsActiveMember    0.00\n",
       "EstimatedSalary   0.00\n",
       "Exited            0.00\n",
       "dtype: float64"
      ]
     },
     "execution_count": 22,
     "metadata": {},
     "output_type": "execute_result"
    }
   ],
   "source": [
    "data.isna().mean()"
   ]
  },
  {
   "cell_type": "code",
   "execution_count": 23,
   "metadata": {},
   "outputs": [
    {
     "data": {
      "text/plain": [
       "array([ 2.,  1.,  8.,  7.,  4.,  6.,  3., 10.,  5.,  9.,  0., nan])"
      ]
     },
     "execution_count": 23,
     "metadata": {},
     "output_type": "execute_result"
    }
   ],
   "source": [
    "data['Tenure'].unique()"
   ]
  },
  {
   "cell_type": "code",
   "execution_count": 24,
   "metadata": {
    "scrolled": false
   },
   "outputs": [
    {
     "data": {
      "text/html": [
       "<div>\n",
       "<style scoped>\n",
       "    .dataframe tbody tr th:only-of-type {\n",
       "        vertical-align: middle;\n",
       "    }\n",
       "\n",
       "    .dataframe tbody tr th {\n",
       "        vertical-align: top;\n",
       "    }\n",
       "\n",
       "    .dataframe thead th {\n",
       "        text-align: right;\n",
       "    }\n",
       "</style>\n",
       "<table border=\"1\" class=\"dataframe\">\n",
       "  <thead>\n",
       "    <tr style=\"text-align: right;\">\n",
       "      <th></th>\n",
       "      <th>RowNumber</th>\n",
       "      <th>CustomerId</th>\n",
       "      <th>Surname</th>\n",
       "      <th>CreditScore</th>\n",
       "      <th>Geography</th>\n",
       "      <th>Gender</th>\n",
       "      <th>Age</th>\n",
       "      <th>Tenure</th>\n",
       "      <th>Balance</th>\n",
       "      <th>NumOfProducts</th>\n",
       "      <th>HasCrCard</th>\n",
       "      <th>IsActiveMember</th>\n",
       "      <th>EstimatedSalary</th>\n",
       "      <th>Exited</th>\n",
       "    </tr>\n",
       "  </thead>\n",
       "  <tbody>\n",
       "    <tr>\n",
       "      <th>30</th>\n",
       "      <td>31</td>\n",
       "      <td>15589475</td>\n",
       "      <td>Azikiwe</td>\n",
       "      <td>591</td>\n",
       "      <td>Spain</td>\n",
       "      <td>Female</td>\n",
       "      <td>39</td>\n",
       "      <td>NaN</td>\n",
       "      <td>0.00</td>\n",
       "      <td>3</td>\n",
       "      <td>1</td>\n",
       "      <td>0</td>\n",
       "      <td>140469.38</td>\n",
       "      <td>1</td>\n",
       "    </tr>\n",
       "    <tr>\n",
       "      <th>48</th>\n",
       "      <td>49</td>\n",
       "      <td>15766205</td>\n",
       "      <td>Yin</td>\n",
       "      <td>550</td>\n",
       "      <td>Germany</td>\n",
       "      <td>Male</td>\n",
       "      <td>38</td>\n",
       "      <td>NaN</td>\n",
       "      <td>103391.38</td>\n",
       "      <td>1</td>\n",
       "      <td>0</td>\n",
       "      <td>1</td>\n",
       "      <td>90878.13</td>\n",
       "      <td>0</td>\n",
       "    </tr>\n",
       "    <tr>\n",
       "      <th>51</th>\n",
       "      <td>52</td>\n",
       "      <td>15768193</td>\n",
       "      <td>Trevisani</td>\n",
       "      <td>585</td>\n",
       "      <td>Germany</td>\n",
       "      <td>Male</td>\n",
       "      <td>36</td>\n",
       "      <td>NaN</td>\n",
       "      <td>146050.97</td>\n",
       "      <td>2</td>\n",
       "      <td>0</td>\n",
       "      <td>0</td>\n",
       "      <td>86424.57</td>\n",
       "      <td>0</td>\n",
       "    </tr>\n",
       "    <tr>\n",
       "      <th>53</th>\n",
       "      <td>54</td>\n",
       "      <td>15702298</td>\n",
       "      <td>Parkhill</td>\n",
       "      <td>655</td>\n",
       "      <td>Germany</td>\n",
       "      <td>Male</td>\n",
       "      <td>41</td>\n",
       "      <td>NaN</td>\n",
       "      <td>125561.97</td>\n",
       "      <td>1</td>\n",
       "      <td>0</td>\n",
       "      <td>0</td>\n",
       "      <td>164040.94</td>\n",
       "      <td>1</td>\n",
       "    </tr>\n",
       "    <tr>\n",
       "      <th>60</th>\n",
       "      <td>61</td>\n",
       "      <td>15651280</td>\n",
       "      <td>Hunter</td>\n",
       "      <td>742</td>\n",
       "      <td>Germany</td>\n",
       "      <td>Male</td>\n",
       "      <td>35</td>\n",
       "      <td>NaN</td>\n",
       "      <td>136857.00</td>\n",
       "      <td>1</td>\n",
       "      <td>0</td>\n",
       "      <td>0</td>\n",
       "      <td>84509.57</td>\n",
       "      <td>0</td>\n",
       "    </tr>\n",
       "    <tr>\n",
       "      <th>...</th>\n",
       "      <td>...</td>\n",
       "      <td>...</td>\n",
       "      <td>...</td>\n",
       "      <td>...</td>\n",
       "      <td>...</td>\n",
       "      <td>...</td>\n",
       "      <td>...</td>\n",
       "      <td>...</td>\n",
       "      <td>...</td>\n",
       "      <td>...</td>\n",
       "      <td>...</td>\n",
       "      <td>...</td>\n",
       "      <td>...</td>\n",
       "      <td>...</td>\n",
       "    </tr>\n",
       "    <tr>\n",
       "      <th>9944</th>\n",
       "      <td>9945</td>\n",
       "      <td>15703923</td>\n",
       "      <td>Cameron</td>\n",
       "      <td>744</td>\n",
       "      <td>Germany</td>\n",
       "      <td>Male</td>\n",
       "      <td>41</td>\n",
       "      <td>NaN</td>\n",
       "      <td>190409.34</td>\n",
       "      <td>2</td>\n",
       "      <td>1</td>\n",
       "      <td>1</td>\n",
       "      <td>138361.48</td>\n",
       "      <td>0</td>\n",
       "    </tr>\n",
       "    <tr>\n",
       "      <th>9956</th>\n",
       "      <td>9957</td>\n",
       "      <td>15707861</td>\n",
       "      <td>Nucci</td>\n",
       "      <td>520</td>\n",
       "      <td>France</td>\n",
       "      <td>Female</td>\n",
       "      <td>46</td>\n",
       "      <td>NaN</td>\n",
       "      <td>85216.61</td>\n",
       "      <td>1</td>\n",
       "      <td>1</td>\n",
       "      <td>0</td>\n",
       "      <td>117369.52</td>\n",
       "      <td>1</td>\n",
       "    </tr>\n",
       "    <tr>\n",
       "      <th>9964</th>\n",
       "      <td>9965</td>\n",
       "      <td>15642785</td>\n",
       "      <td>Douglas</td>\n",
       "      <td>479</td>\n",
       "      <td>France</td>\n",
       "      <td>Male</td>\n",
       "      <td>34</td>\n",
       "      <td>NaN</td>\n",
       "      <td>117593.48</td>\n",
       "      <td>2</td>\n",
       "      <td>0</td>\n",
       "      <td>0</td>\n",
       "      <td>113308.29</td>\n",
       "      <td>0</td>\n",
       "    </tr>\n",
       "    <tr>\n",
       "      <th>9985</th>\n",
       "      <td>9986</td>\n",
       "      <td>15586914</td>\n",
       "      <td>Nepean</td>\n",
       "      <td>659</td>\n",
       "      <td>France</td>\n",
       "      <td>Male</td>\n",
       "      <td>36</td>\n",
       "      <td>NaN</td>\n",
       "      <td>123841.49</td>\n",
       "      <td>2</td>\n",
       "      <td>1</td>\n",
       "      <td>0</td>\n",
       "      <td>96833.00</td>\n",
       "      <td>0</td>\n",
       "    </tr>\n",
       "    <tr>\n",
       "      <th>9999</th>\n",
       "      <td>10000</td>\n",
       "      <td>15628319</td>\n",
       "      <td>Walker</td>\n",
       "      <td>792</td>\n",
       "      <td>France</td>\n",
       "      <td>Female</td>\n",
       "      <td>28</td>\n",
       "      <td>NaN</td>\n",
       "      <td>130142.79</td>\n",
       "      <td>1</td>\n",
       "      <td>1</td>\n",
       "      <td>0</td>\n",
       "      <td>38190.78</td>\n",
       "      <td>0</td>\n",
       "    </tr>\n",
       "  </tbody>\n",
       "</table>\n",
       "<p>909 rows × 14 columns</p>\n",
       "</div>"
      ],
      "text/plain": [
       "      RowNumber  CustomerId    Surname  CreditScore Geography  Gender  Age  \\\n",
       "30           31    15589475    Azikiwe          591     Spain  Female   39   \n",
       "48           49    15766205        Yin          550   Germany    Male   38   \n",
       "51           52    15768193  Trevisani          585   Germany    Male   36   \n",
       "53           54    15702298   Parkhill          655   Germany    Male   41   \n",
       "60           61    15651280     Hunter          742   Germany    Male   35   \n",
       "...         ...         ...        ...          ...       ...     ...  ...   \n",
       "9944       9945    15703923    Cameron          744   Germany    Male   41   \n",
       "9956       9957    15707861      Nucci          520    France  Female   46   \n",
       "9964       9965    15642785    Douglas          479    France    Male   34   \n",
       "9985       9986    15586914     Nepean          659    France    Male   36   \n",
       "9999      10000    15628319     Walker          792    France  Female   28   \n",
       "\n",
       "      Tenure   Balance  NumOfProducts  HasCrCard  IsActiveMember  \\\n",
       "30       NaN      0.00              3          1               0   \n",
       "48       NaN 103391.38              1          0               1   \n",
       "51       NaN 146050.97              2          0               0   \n",
       "53       NaN 125561.97              1          0               0   \n",
       "60       NaN 136857.00              1          0               0   \n",
       "...      ...       ...            ...        ...             ...   \n",
       "9944     NaN 190409.34              2          1               1   \n",
       "9956     NaN  85216.61              1          1               0   \n",
       "9964     NaN 117593.48              2          0               0   \n",
       "9985     NaN 123841.49              2          1               0   \n",
       "9999     NaN 130142.79              1          1               0   \n",
       "\n",
       "      EstimatedSalary  Exited  \n",
       "30          140469.38       1  \n",
       "48           90878.13       0  \n",
       "51           86424.57       0  \n",
       "53          164040.94       1  \n",
       "60           84509.57       0  \n",
       "...               ...     ...  \n",
       "9944        138361.48       0  \n",
       "9956        117369.52       1  \n",
       "9964        113308.29       0  \n",
       "9985         96833.00       0  \n",
       "9999         38190.78       0  \n",
       "\n",
       "[909 rows x 14 columns]"
      ]
     },
     "execution_count": 24,
     "metadata": {},
     "output_type": "execute_result"
    }
   ],
   "source": [
    "data.query('Tenure.isna()')"
   ]
  },
  {
   "cell_type": "code",
   "execution_count": 25,
   "metadata": {
    "scrolled": false
   },
   "outputs": [
    {
     "data": {
      "text/html": [
       "<div>\n",
       "<style scoped>\n",
       "    .dataframe tbody tr th:only-of-type {\n",
       "        vertical-align: middle;\n",
       "    }\n",
       "\n",
       "    .dataframe tbody tr th {\n",
       "        vertical-align: top;\n",
       "    }\n",
       "\n",
       "    .dataframe thead th {\n",
       "        text-align: right;\n",
       "    }\n",
       "</style>\n",
       "<table border=\"1\" class=\"dataframe\">\n",
       "  <thead>\n",
       "    <tr style=\"text-align: right;\">\n",
       "      <th></th>\n",
       "      <th>RowNumber</th>\n",
       "      <th>CustomerId</th>\n",
       "      <th>Surname</th>\n",
       "      <th>CreditScore</th>\n",
       "      <th>Geography</th>\n",
       "      <th>Gender</th>\n",
       "      <th>Age</th>\n",
       "      <th>Tenure</th>\n",
       "      <th>Balance</th>\n",
       "      <th>NumOfProducts</th>\n",
       "      <th>HasCrCard</th>\n",
       "      <th>IsActiveMember</th>\n",
       "      <th>EstimatedSalary</th>\n",
       "      <th>Exited</th>\n",
       "    </tr>\n",
       "  </thead>\n",
       "  <tbody>\n",
       "    <tr>\n",
       "      <th>0</th>\n",
       "      <td>1</td>\n",
       "      <td>15634602</td>\n",
       "      <td>Hargrave</td>\n",
       "      <td>619</td>\n",
       "      <td>France</td>\n",
       "      <td>Female</td>\n",
       "      <td>42</td>\n",
       "      <td>2.00</td>\n",
       "      <td>0.00</td>\n",
       "      <td>1</td>\n",
       "      <td>1</td>\n",
       "      <td>1</td>\n",
       "      <td>101348.88</td>\n",
       "      <td>1</td>\n",
       "    </tr>\n",
       "    <tr>\n",
       "      <th>1</th>\n",
       "      <td>2</td>\n",
       "      <td>15647311</td>\n",
       "      <td>Hill</td>\n",
       "      <td>608</td>\n",
       "      <td>Spain</td>\n",
       "      <td>Female</td>\n",
       "      <td>41</td>\n",
       "      <td>1.00</td>\n",
       "      <td>83807.86</td>\n",
       "      <td>1</td>\n",
       "      <td>0</td>\n",
       "      <td>1</td>\n",
       "      <td>112542.58</td>\n",
       "      <td>0</td>\n",
       "    </tr>\n",
       "    <tr>\n",
       "      <th>2</th>\n",
       "      <td>3</td>\n",
       "      <td>15619304</td>\n",
       "      <td>Onio</td>\n",
       "      <td>502</td>\n",
       "      <td>France</td>\n",
       "      <td>Female</td>\n",
       "      <td>42</td>\n",
       "      <td>8.00</td>\n",
       "      <td>159660.80</td>\n",
       "      <td>3</td>\n",
       "      <td>1</td>\n",
       "      <td>0</td>\n",
       "      <td>113931.57</td>\n",
       "      <td>1</td>\n",
       "    </tr>\n",
       "    <tr>\n",
       "      <th>3</th>\n",
       "      <td>4</td>\n",
       "      <td>15701354</td>\n",
       "      <td>Boni</td>\n",
       "      <td>699</td>\n",
       "      <td>France</td>\n",
       "      <td>Female</td>\n",
       "      <td>39</td>\n",
       "      <td>1.00</td>\n",
       "      <td>0.00</td>\n",
       "      <td>2</td>\n",
       "      <td>0</td>\n",
       "      <td>0</td>\n",
       "      <td>93826.63</td>\n",
       "      <td>0</td>\n",
       "    </tr>\n",
       "    <tr>\n",
       "      <th>4</th>\n",
       "      <td>5</td>\n",
       "      <td>15737888</td>\n",
       "      <td>Mitchell</td>\n",
       "      <td>850</td>\n",
       "      <td>Spain</td>\n",
       "      <td>Female</td>\n",
       "      <td>43</td>\n",
       "      <td>2.00</td>\n",
       "      <td>125510.82</td>\n",
       "      <td>1</td>\n",
       "      <td>1</td>\n",
       "      <td>1</td>\n",
       "      <td>79084.10</td>\n",
       "      <td>0</td>\n",
       "    </tr>\n",
       "    <tr>\n",
       "      <th>...</th>\n",
       "      <td>...</td>\n",
       "      <td>...</td>\n",
       "      <td>...</td>\n",
       "      <td>...</td>\n",
       "      <td>...</td>\n",
       "      <td>...</td>\n",
       "      <td>...</td>\n",
       "      <td>...</td>\n",
       "      <td>...</td>\n",
       "      <td>...</td>\n",
       "      <td>...</td>\n",
       "      <td>...</td>\n",
       "      <td>...</td>\n",
       "      <td>...</td>\n",
       "    </tr>\n",
       "    <tr>\n",
       "      <th>9994</th>\n",
       "      <td>9995</td>\n",
       "      <td>15719294</td>\n",
       "      <td>Wood</td>\n",
       "      <td>800</td>\n",
       "      <td>France</td>\n",
       "      <td>Female</td>\n",
       "      <td>29</td>\n",
       "      <td>2.00</td>\n",
       "      <td>0.00</td>\n",
       "      <td>2</td>\n",
       "      <td>0</td>\n",
       "      <td>0</td>\n",
       "      <td>167773.55</td>\n",
       "      <td>0</td>\n",
       "    </tr>\n",
       "    <tr>\n",
       "      <th>9995</th>\n",
       "      <td>9996</td>\n",
       "      <td>15606229</td>\n",
       "      <td>Obijiaku</td>\n",
       "      <td>771</td>\n",
       "      <td>France</td>\n",
       "      <td>Male</td>\n",
       "      <td>39</td>\n",
       "      <td>5.00</td>\n",
       "      <td>0.00</td>\n",
       "      <td>2</td>\n",
       "      <td>1</td>\n",
       "      <td>0</td>\n",
       "      <td>96270.64</td>\n",
       "      <td>0</td>\n",
       "    </tr>\n",
       "    <tr>\n",
       "      <th>9996</th>\n",
       "      <td>9997</td>\n",
       "      <td>15569892</td>\n",
       "      <td>Johnstone</td>\n",
       "      <td>516</td>\n",
       "      <td>France</td>\n",
       "      <td>Male</td>\n",
       "      <td>35</td>\n",
       "      <td>10.00</td>\n",
       "      <td>57369.61</td>\n",
       "      <td>1</td>\n",
       "      <td>1</td>\n",
       "      <td>1</td>\n",
       "      <td>101699.77</td>\n",
       "      <td>0</td>\n",
       "    </tr>\n",
       "    <tr>\n",
       "      <th>9997</th>\n",
       "      <td>9998</td>\n",
       "      <td>15584532</td>\n",
       "      <td>Liu</td>\n",
       "      <td>709</td>\n",
       "      <td>France</td>\n",
       "      <td>Female</td>\n",
       "      <td>36</td>\n",
       "      <td>7.00</td>\n",
       "      <td>0.00</td>\n",
       "      <td>1</td>\n",
       "      <td>0</td>\n",
       "      <td>1</td>\n",
       "      <td>42085.58</td>\n",
       "      <td>1</td>\n",
       "    </tr>\n",
       "    <tr>\n",
       "      <th>9998</th>\n",
       "      <td>9999</td>\n",
       "      <td>15682355</td>\n",
       "      <td>Sabbatini</td>\n",
       "      <td>772</td>\n",
       "      <td>Germany</td>\n",
       "      <td>Male</td>\n",
       "      <td>42</td>\n",
       "      <td>3.00</td>\n",
       "      <td>75075.31</td>\n",
       "      <td>2</td>\n",
       "      <td>1</td>\n",
       "      <td>0</td>\n",
       "      <td>92888.52</td>\n",
       "      <td>1</td>\n",
       "    </tr>\n",
       "  </tbody>\n",
       "</table>\n",
       "<p>9091 rows × 14 columns</p>\n",
       "</div>"
      ],
      "text/plain": [
       "      RowNumber  CustomerId    Surname  CreditScore Geography  Gender  Age  \\\n",
       "0             1    15634602   Hargrave          619    France  Female   42   \n",
       "1             2    15647311       Hill          608     Spain  Female   41   \n",
       "2             3    15619304       Onio          502    France  Female   42   \n",
       "3             4    15701354       Boni          699    France  Female   39   \n",
       "4             5    15737888   Mitchell          850     Spain  Female   43   \n",
       "...         ...         ...        ...          ...       ...     ...  ...   \n",
       "9994       9995    15719294       Wood          800    France  Female   29   \n",
       "9995       9996    15606229   Obijiaku          771    France    Male   39   \n",
       "9996       9997    15569892  Johnstone          516    France    Male   35   \n",
       "9997       9998    15584532        Liu          709    France  Female   36   \n",
       "9998       9999    15682355  Sabbatini          772   Germany    Male   42   \n",
       "\n",
       "      Tenure   Balance  NumOfProducts  HasCrCard  IsActiveMember  \\\n",
       "0       2.00      0.00              1          1               1   \n",
       "1       1.00  83807.86              1          0               1   \n",
       "2       8.00 159660.80              3          1               0   \n",
       "3       1.00      0.00              2          0               0   \n",
       "4       2.00 125510.82              1          1               1   \n",
       "...      ...       ...            ...        ...             ...   \n",
       "9994    2.00      0.00              2          0               0   \n",
       "9995    5.00      0.00              2          1               0   \n",
       "9996   10.00  57369.61              1          1               1   \n",
       "9997    7.00      0.00              1          0               1   \n",
       "9998    3.00  75075.31              2          1               0   \n",
       "\n",
       "      EstimatedSalary  Exited  \n",
       "0           101348.88       1  \n",
       "1           112542.58       0  \n",
       "2           113931.57       1  \n",
       "3            93826.63       0  \n",
       "4            79084.10       0  \n",
       "...               ...     ...  \n",
       "9994        167773.55       0  \n",
       "9995         96270.64       0  \n",
       "9996        101699.77       0  \n",
       "9997         42085.58       1  \n",
       "9998         92888.52       1  \n",
       "\n",
       "[9091 rows x 14 columns]"
      ]
     },
     "execution_count": 25,
     "metadata": {},
     "output_type": "execute_result"
    }
   ],
   "source": [
    "data.query('Tenure.notna()')"
   ]
  },
  {
   "cell_type": "markdown",
   "metadata": {},
   "source": [
    "9% строк в Tenure (время пользования банком) являются  незаполненными. Поскольку это все же численные данные, заменим Nan на заглушку."
   ]
  },
  {
   "cell_type": "code",
   "execution_count": 30,
   "metadata": {},
   "outputs": [],
   "source": [
    "data['Tenure'] = data['Tenure'].fillna(value = 999)"
   ]
  },
  {
   "cell_type": "code",
   "execution_count": 31,
   "metadata": {},
   "outputs": [
    {
     "data": {
      "text/plain": [
       "array(['2.0', '1.0', '8.0', '7.0', '4.0', '6.0', '3.0', '10.0', '5.0',\n",
       "       '9.0', '0.0', '999.0'], dtype=object)"
      ]
     },
     "execution_count": 31,
     "metadata": {},
     "output_type": "execute_result"
    }
   ],
   "source": [
    "data['Tenure'].unique()"
   ]
  },
  {
   "cell_type": "code",
   "execution_count": 32,
   "metadata": {},
   "outputs": [],
   "source": [
    "data['Tenure'] = data['Tenure'].astype('str')"
   ]
  },
  {
   "cell_type": "code",
   "execution_count": 33,
   "metadata": {},
   "outputs": [
    {
     "data": {
      "text/plain": [
       "0"
      ]
     },
     "execution_count": 33,
     "metadata": {},
     "output_type": "execute_result"
    }
   ],
   "source": [
    "data.duplicated().sum()"
   ]
  },
  {
   "cell_type": "markdown",
   "metadata": {},
   "source": [
    "Дублирующихся строк не обнаружено"
   ]
  },
  {
   "cell_type": "code",
   "execution_count": 34,
   "metadata": {
    "scrolled": true
   },
   "outputs": [
    {
     "data": {
      "text/html": [
       "<div>\n",
       "<style scoped>\n",
       "    .dataframe tbody tr th:only-of-type {\n",
       "        vertical-align: middle;\n",
       "    }\n",
       "\n",
       "    .dataframe tbody tr th {\n",
       "        vertical-align: top;\n",
       "    }\n",
       "\n",
       "    .dataframe thead th {\n",
       "        text-align: right;\n",
       "    }\n",
       "</style>\n",
       "<table border=\"1\" class=\"dataframe\">\n",
       "  <thead>\n",
       "    <tr style=\"text-align: right;\">\n",
       "      <th></th>\n",
       "      <th>RowNumber</th>\n",
       "      <th>CustomerId</th>\n",
       "      <th>CreditScore</th>\n",
       "      <th>Age</th>\n",
       "      <th>Balance</th>\n",
       "      <th>NumOfProducts</th>\n",
       "      <th>HasCrCard</th>\n",
       "      <th>IsActiveMember</th>\n",
       "      <th>EstimatedSalary</th>\n",
       "      <th>Exited</th>\n",
       "    </tr>\n",
       "  </thead>\n",
       "  <tbody>\n",
       "    <tr>\n",
       "      <th>count</th>\n",
       "      <td>10000.00</td>\n",
       "      <td>10000.00</td>\n",
       "      <td>10000.00</td>\n",
       "      <td>10000.00</td>\n",
       "      <td>10000.00</td>\n",
       "      <td>10000.00</td>\n",
       "      <td>10000.00</td>\n",
       "      <td>10000.00</td>\n",
       "      <td>10000.00</td>\n",
       "      <td>10000.00</td>\n",
       "    </tr>\n",
       "    <tr>\n",
       "      <th>mean</th>\n",
       "      <td>5000.50</td>\n",
       "      <td>15690940.57</td>\n",
       "      <td>650.53</td>\n",
       "      <td>38.92</td>\n",
       "      <td>76485.89</td>\n",
       "      <td>1.53</td>\n",
       "      <td>0.71</td>\n",
       "      <td>0.52</td>\n",
       "      <td>100090.24</td>\n",
       "      <td>0.20</td>\n",
       "    </tr>\n",
       "    <tr>\n",
       "      <th>std</th>\n",
       "      <td>2886.90</td>\n",
       "      <td>71936.19</td>\n",
       "      <td>96.65</td>\n",
       "      <td>10.49</td>\n",
       "      <td>62397.41</td>\n",
       "      <td>0.58</td>\n",
       "      <td>0.46</td>\n",
       "      <td>0.50</td>\n",
       "      <td>57510.49</td>\n",
       "      <td>0.40</td>\n",
       "    </tr>\n",
       "    <tr>\n",
       "      <th>min</th>\n",
       "      <td>1.00</td>\n",
       "      <td>15565701.00</td>\n",
       "      <td>350.00</td>\n",
       "      <td>18.00</td>\n",
       "      <td>0.00</td>\n",
       "      <td>1.00</td>\n",
       "      <td>0.00</td>\n",
       "      <td>0.00</td>\n",
       "      <td>11.58</td>\n",
       "      <td>0.00</td>\n",
       "    </tr>\n",
       "    <tr>\n",
       "      <th>25%</th>\n",
       "      <td>2500.75</td>\n",
       "      <td>15628528.25</td>\n",
       "      <td>584.00</td>\n",
       "      <td>32.00</td>\n",
       "      <td>0.00</td>\n",
       "      <td>1.00</td>\n",
       "      <td>0.00</td>\n",
       "      <td>0.00</td>\n",
       "      <td>51002.11</td>\n",
       "      <td>0.00</td>\n",
       "    </tr>\n",
       "    <tr>\n",
       "      <th>50%</th>\n",
       "      <td>5000.50</td>\n",
       "      <td>15690738.00</td>\n",
       "      <td>652.00</td>\n",
       "      <td>37.00</td>\n",
       "      <td>97198.54</td>\n",
       "      <td>1.00</td>\n",
       "      <td>1.00</td>\n",
       "      <td>1.00</td>\n",
       "      <td>100193.91</td>\n",
       "      <td>0.00</td>\n",
       "    </tr>\n",
       "    <tr>\n",
       "      <th>75%</th>\n",
       "      <td>7500.25</td>\n",
       "      <td>15753233.75</td>\n",
       "      <td>718.00</td>\n",
       "      <td>44.00</td>\n",
       "      <td>127644.24</td>\n",
       "      <td>2.00</td>\n",
       "      <td>1.00</td>\n",
       "      <td>1.00</td>\n",
       "      <td>149388.25</td>\n",
       "      <td>0.00</td>\n",
       "    </tr>\n",
       "    <tr>\n",
       "      <th>max</th>\n",
       "      <td>10000.00</td>\n",
       "      <td>15815690.00</td>\n",
       "      <td>850.00</td>\n",
       "      <td>92.00</td>\n",
       "      <td>250898.09</td>\n",
       "      <td>4.00</td>\n",
       "      <td>1.00</td>\n",
       "      <td>1.00</td>\n",
       "      <td>199992.48</td>\n",
       "      <td>1.00</td>\n",
       "    </tr>\n",
       "  </tbody>\n",
       "</table>\n",
       "</div>"
      ],
      "text/plain": [
       "       RowNumber  CustomerId  CreditScore      Age   Balance  NumOfProducts  \\\n",
       "count   10000.00    10000.00     10000.00 10000.00  10000.00       10000.00   \n",
       "mean     5000.50 15690940.57       650.53    38.92  76485.89           1.53   \n",
       "std      2886.90    71936.19        96.65    10.49  62397.41           0.58   \n",
       "min         1.00 15565701.00       350.00    18.00      0.00           1.00   \n",
       "25%      2500.75 15628528.25       584.00    32.00      0.00           1.00   \n",
       "50%      5000.50 15690738.00       652.00    37.00  97198.54           1.00   \n",
       "75%      7500.25 15753233.75       718.00    44.00 127644.24           2.00   \n",
       "max     10000.00 15815690.00       850.00    92.00 250898.09           4.00   \n",
       "\n",
       "       HasCrCard  IsActiveMember  EstimatedSalary   Exited  \n",
       "count   10000.00        10000.00         10000.00 10000.00  \n",
       "mean        0.71            0.52        100090.24     0.20  \n",
       "std         0.46            0.50         57510.49     0.40  \n",
       "min         0.00            0.00            11.58     0.00  \n",
       "25%         0.00            0.00         51002.11     0.00  \n",
       "50%         1.00            1.00        100193.91     0.00  \n",
       "75%         1.00            1.00        149388.25     0.00  \n",
       "max         1.00            1.00        199992.48     1.00  "
      ]
     },
     "execution_count": 34,
     "metadata": {},
     "output_type": "execute_result"
    }
   ],
   "source": [
    "data.describe()"
   ]
  },
  {
   "cell_type": "markdown",
   "metadata": {},
   "source": [
    "Данные выглядят правдоподобно (возраст от 18 до 92, пользование банком от 0 до 10 лет, оклад от 50 до 200 тыс. руб.)"
   ]
  },
  {
   "cell_type": "code",
   "execution_count": 35,
   "metadata": {
    "scrolled": true
   },
   "outputs": [
    {
     "data": {
      "text/html": [
       "<div>\n",
       "<style scoped>\n",
       "    .dataframe tbody tr th:only-of-type {\n",
       "        vertical-align: middle;\n",
       "    }\n",
       "\n",
       "    .dataframe tbody tr th {\n",
       "        vertical-align: top;\n",
       "    }\n",
       "\n",
       "    .dataframe thead th {\n",
       "        text-align: right;\n",
       "    }\n",
       "</style>\n",
       "<table border=\"1\" class=\"dataframe\">\n",
       "  <thead>\n",
       "    <tr style=\"text-align: right;\">\n",
       "      <th></th>\n",
       "      <th>CreditScore</th>\n",
       "      <th>Geography</th>\n",
       "      <th>Gender</th>\n",
       "      <th>Age</th>\n",
       "      <th>Tenure</th>\n",
       "      <th>Balance</th>\n",
       "      <th>NumOfProducts</th>\n",
       "      <th>HasCrCard</th>\n",
       "      <th>IsActiveMember</th>\n",
       "      <th>EstimatedSalary</th>\n",
       "      <th>Exited</th>\n",
       "    </tr>\n",
       "  </thead>\n",
       "  <tbody>\n",
       "    <tr>\n",
       "      <th>0</th>\n",
       "      <td>619</td>\n",
       "      <td>France</td>\n",
       "      <td>Female</td>\n",
       "      <td>42</td>\n",
       "      <td>2.0</td>\n",
       "      <td>0.00</td>\n",
       "      <td>1</td>\n",
       "      <td>1</td>\n",
       "      <td>1</td>\n",
       "      <td>101348.88</td>\n",
       "      <td>1</td>\n",
       "    </tr>\n",
       "    <tr>\n",
       "      <th>1</th>\n",
       "      <td>608</td>\n",
       "      <td>Spain</td>\n",
       "      <td>Female</td>\n",
       "      <td>41</td>\n",
       "      <td>1.0</td>\n",
       "      <td>83807.86</td>\n",
       "      <td>1</td>\n",
       "      <td>0</td>\n",
       "      <td>1</td>\n",
       "      <td>112542.58</td>\n",
       "      <td>0</td>\n",
       "    </tr>\n",
       "    <tr>\n",
       "      <th>2</th>\n",
       "      <td>502</td>\n",
       "      <td>France</td>\n",
       "      <td>Female</td>\n",
       "      <td>42</td>\n",
       "      <td>8.0</td>\n",
       "      <td>159660.80</td>\n",
       "      <td>3</td>\n",
       "      <td>1</td>\n",
       "      <td>0</td>\n",
       "      <td>113931.57</td>\n",
       "      <td>1</td>\n",
       "    </tr>\n",
       "    <tr>\n",
       "      <th>3</th>\n",
       "      <td>699</td>\n",
       "      <td>France</td>\n",
       "      <td>Female</td>\n",
       "      <td>39</td>\n",
       "      <td>1.0</td>\n",
       "      <td>0.00</td>\n",
       "      <td>2</td>\n",
       "      <td>0</td>\n",
       "      <td>0</td>\n",
       "      <td>93826.63</td>\n",
       "      <td>0</td>\n",
       "    </tr>\n",
       "    <tr>\n",
       "      <th>4</th>\n",
       "      <td>850</td>\n",
       "      <td>Spain</td>\n",
       "      <td>Female</td>\n",
       "      <td>43</td>\n",
       "      <td>2.0</td>\n",
       "      <td>125510.82</td>\n",
       "      <td>1</td>\n",
       "      <td>1</td>\n",
       "      <td>1</td>\n",
       "      <td>79084.10</td>\n",
       "      <td>0</td>\n",
       "    </tr>\n",
       "  </tbody>\n",
       "</table>\n",
       "</div>"
      ],
      "text/plain": [
       "   CreditScore Geography  Gender  Age Tenure   Balance  NumOfProducts  \\\n",
       "0          619    France  Female   42    2.0      0.00              1   \n",
       "1          608     Spain  Female   41    1.0  83807.86              1   \n",
       "2          502    France  Female   42    8.0 159660.80              3   \n",
       "3          699    France  Female   39    1.0      0.00              2   \n",
       "4          850     Spain  Female   43    2.0 125510.82              1   \n",
       "\n",
       "   HasCrCard  IsActiveMember  EstimatedSalary  Exited  \n",
       "0          1               1        101348.88       1  \n",
       "1          0               1        112542.58       0  \n",
       "2          1               0        113931.57       1  \n",
       "3          0               0         93826.63       0  \n",
       "4          1               1         79084.10       0  "
      ]
     },
     "execution_count": 35,
     "metadata": {},
     "output_type": "execute_result"
    }
   ],
   "source": [
    "#Удалим столбец с фамилией\n",
    "data = data.drop(['RowNumber', 'CustomerId', 'Surname'], axis = 1)\n",
    "data.head()"
   ]
  },
  {
   "cell_type": "code",
   "execution_count": 36,
   "metadata": {},
   "outputs": [
    {
     "ename": "SyntaxError",
     "evalue": "invalid syntax (3533631814.py, line 2)",
     "output_type": "error",
     "traceback": [
      "\u001b[1;36m  Input \u001b[1;32mIn [36]\u001b[1;36m\u001b[0m\n\u001b[1;33m    data = data.drop(['Surname', axis = 1)\u001b[0m\n\u001b[1;37m                                      ^\u001b[0m\n\u001b[1;31mSyntaxError\u001b[0m\u001b[1;31m:\u001b[0m invalid syntax\n"
     ]
    }
   ],
   "source": [
    "#Удалим столбец с фамилией\n",
    "data = data.drop(['Surname', axis = 1)"
   ]
  },
  {
   "cell_type": "markdown",
   "metadata": {},
   "source": [
    "Был удален столбец с фамилиями пользователей и заменены данные в Tenure (сроке пользвания услугами) на медианные."
   ]
  },
  {
   "cell_type": "markdown",
   "metadata": {},
   "source": [
    "### Подготовка категориальных данных методом OHE"
   ]
  },
  {
   "cell_type": "code",
   "execution_count": 37,
   "metadata": {},
   "outputs": [
    {
     "data": {
      "text/plain": [
       "array(['France', 'Spain', 'Germany'], dtype=object)"
      ]
     },
     "metadata": {},
     "output_type": "display_data"
    },
    {
     "data": {
      "text/plain": [
       "array(['Female', 'Male'], dtype=object)"
      ]
     },
     "metadata": {},
     "output_type": "display_data"
    },
    {
     "data": {
      "text/plain": [
       "Index(['CreditScore', 'Age', 'Balance', 'NumOfProducts', 'HasCrCard',\n",
       "       'IsActiveMember', 'EstimatedSalary', 'Exited', 'Geography_Germany',\n",
       "       'Geography_Spain', 'Gender_Male', 'Tenure_1.0', 'Tenure_10.0',\n",
       "       'Tenure_2.0', 'Tenure_3.0', 'Tenure_4.0', 'Tenure_5.0', 'Tenure_6.0',\n",
       "       'Tenure_7.0', 'Tenure_8.0', 'Tenure_9.0', 'Tenure_999.0'],\n",
       "      dtype='object')"
      ]
     },
     "execution_count": 37,
     "metadata": {},
     "output_type": "execute_result"
    }
   ],
   "source": [
    "#Преобразуем Geography и Gender прямым кодированием.\n",
    "display(data['Geography'].unique())\n",
    "display(data['Gender'].unique())\n",
    "\n",
    "\n",
    "data_ohe = pd.get_dummies(data, drop_first=True)\n",
    "data_ohe.head()\n",
    "data_ohe.columns"
   ]
  },
  {
   "cell_type": "markdown",
   "metadata": {},
   "source": [
    "В получившейся таблице если география не Германия и не Испания, то Франция, если не мужчина, то женщина."
   ]
  },
  {
   "cell_type": "code",
   "execution_count": 38,
   "metadata": {},
   "outputs": [],
   "source": [
    "#Разделим данные на target/features\n",
    "\n",
    "target = data_ohe['Exited']\n",
    "features = data_ohe.drop('Exited', axis=1)"
   ]
  },
  {
   "cell_type": "markdown",
   "metadata": {},
   "source": [
    "### Разделение на тестовую и учебную выборки"
   ]
  },
  {
   "cell_type": "code",
   "execution_count": 39,
   "metadata": {},
   "outputs": [
    {
     "data": {
      "text/plain": [
       "(2500, 21)"
      ]
     },
     "execution_count": 39,
     "metadata": {},
     "output_type": "execute_result"
    }
   ],
   "source": [
    "#Выделим 25% тестовой выборки:\n",
    "features_test, features_learn, target_test, target_learn = train_test_split(features, target, test_size=0.75, random_state=12345)\n",
    "\n",
    "features_test.shape"
   ]
  },
  {
   "cell_type": "markdown",
   "metadata": {},
   "source": [
    "### Разделение учебной выборки на тренировочную и валидационную"
   ]
  },
  {
   "cell_type": "code",
   "execution_count": 40,
   "metadata": {},
   "outputs": [
    {
     "name": "stdout",
     "output_type": "stream",
     "text": [
      "(5625, 21)\n",
      "(1875, 21)\n",
      "[0 1]\n"
     ]
    }
   ],
   "source": [
    "#Выделим 25% валидационной выборки:\n",
    "features_train, features_valid, target_train, target_valid = train_test_split(features_learn, target_learn, test_size=0.25, random_state=12345)\n",
    "\n",
    "print(features_train.shape)\n",
    "print(features_valid.shape)\n",
    "print(target_test.unique())"
   ]
  },
  {
   "cell_type": "markdown",
   "metadata": {},
   "source": [
    "### Стандартизация признаков"
   ]
  },
  {
   "cell_type": "code",
   "execution_count": 41,
   "metadata": {
    "scrolled": true
   },
   "outputs": [
    {
     "data": {
      "text/plain": [
       "Index(['CreditScore', 'Age', 'Balance', 'NumOfProducts', 'HasCrCard',\n",
       "       'IsActiveMember', 'EstimatedSalary', 'Geography_Germany',\n",
       "       'Geography_Spain', 'Gender_Male', 'Tenure_1.0', 'Tenure_10.0',\n",
       "       'Tenure_2.0', 'Tenure_3.0', 'Tenure_4.0', 'Tenure_5.0', 'Tenure_6.0',\n",
       "       'Tenure_7.0', 'Tenure_8.0', 'Tenure_9.0', 'Tenure_999.0'],\n",
       "      dtype='object')"
      ]
     },
     "execution_count": 41,
     "metadata": {},
     "output_type": "execute_result"
    }
   ],
   "source": [
    "#Выделим столбцы, которые нужно стандартизировать(численные)\n",
    "features_train.columns"
   ]
  },
  {
   "cell_type": "code",
   "execution_count": 42,
   "metadata": {
    "scrolled": true
   },
   "outputs": [],
   "source": [
    "#Приведем все признаки к единму масштабу\n",
    "\n",
    "#перечислим численные столбцы:\n",
    "numeric = ['CreditScore', 'Age', 'Balance', 'NumOfProducts', 'EstimatedSalary']\n",
    "\n",
    "scaler = StandardScaler()\n",
    "scaler.fit(features_train[numeric])\n",
    "\n",
    "features_train[numeric] = scaler.transform(features_train[numeric])\n",
    "features_test[numeric] = scaler.transform(features_test[numeric])\n",
    "features_valid[numeric] = scaler.transform(features_valid[numeric])\n"
   ]
  },
  {
   "cell_type": "code",
   "execution_count": 43,
   "metadata": {},
   "outputs": [
    {
     "data": {
      "text/html": [
       "<div>\n",
       "<style scoped>\n",
       "    .dataframe tbody tr th:only-of-type {\n",
       "        vertical-align: middle;\n",
       "    }\n",
       "\n",
       "    .dataframe tbody tr th {\n",
       "        vertical-align: top;\n",
       "    }\n",
       "\n",
       "    .dataframe thead th {\n",
       "        text-align: right;\n",
       "    }\n",
       "</style>\n",
       "<table border=\"1\" class=\"dataframe\">\n",
       "  <thead>\n",
       "    <tr style=\"text-align: right;\">\n",
       "      <th></th>\n",
       "      <th>CreditScore</th>\n",
       "      <th>Age</th>\n",
       "      <th>Balance</th>\n",
       "      <th>NumOfProducts</th>\n",
       "      <th>EstimatedSalary</th>\n",
       "    </tr>\n",
       "  </thead>\n",
       "  <tbody>\n",
       "    <tr>\n",
       "      <th>7072</th>\n",
       "      <td>0.38</td>\n",
       "      <td>-0.17</td>\n",
       "      <td>0.94</td>\n",
       "      <td>-0.92</td>\n",
       "      <td>-1.29</td>\n",
       "    </tr>\n",
       "    <tr>\n",
       "      <th>5028</th>\n",
       "      <td>-1.77</td>\n",
       "      <td>-0.07</td>\n",
       "      <td>1.53</td>\n",
       "      <td>-0.92</td>\n",
       "      <td>-0.87</td>\n",
       "    </tr>\n",
       "    <tr>\n",
       "      <th>4509</th>\n",
       "      <td>-0.80</td>\n",
       "      <td>-0.36</td>\n",
       "      <td>1.02</td>\n",
       "      <td>-0.92</td>\n",
       "      <td>1.47</td>\n",
       "    </tr>\n",
       "    <tr>\n",
       "      <th>5151</th>\n",
       "      <td>1.29</td>\n",
       "      <td>-0.36</td>\n",
       "      <td>0.73</td>\n",
       "      <td>-0.92</td>\n",
       "      <td>-1.34</td>\n",
       "    </tr>\n",
       "    <tr>\n",
       "      <th>1443</th>\n",
       "      <td>-0.97</td>\n",
       "      <td>0.41</td>\n",
       "      <td>-1.22</td>\n",
       "      <td>2.55</td>\n",
       "      <td>0.41</td>\n",
       "    </tr>\n",
       "  </tbody>\n",
       "</table>\n",
       "</div>"
      ],
      "text/plain": [
       "      CreditScore   Age  Balance  NumOfProducts  EstimatedSalary\n",
       "7072         0.38 -0.17     0.94          -0.92            -1.29\n",
       "5028        -1.77 -0.07     1.53          -0.92            -0.87\n",
       "4509        -0.80 -0.36     1.02          -0.92             1.47\n",
       "5151         1.29 -0.36     0.73          -0.92            -1.34\n",
       "1443        -0.97  0.41    -1.22           2.55             0.41"
      ]
     },
     "metadata": {},
     "output_type": "display_data"
    },
    {
     "data": {
      "text/html": [
       "<div>\n",
       "<style scoped>\n",
       "    .dataframe tbody tr th:only-of-type {\n",
       "        vertical-align: middle;\n",
       "    }\n",
       "\n",
       "    .dataframe tbody tr th {\n",
       "        vertical-align: top;\n",
       "    }\n",
       "\n",
       "    .dataframe thead th {\n",
       "        text-align: right;\n",
       "    }\n",
       "</style>\n",
       "<table border=\"1\" class=\"dataframe\">\n",
       "  <thead>\n",
       "    <tr style=\"text-align: right;\">\n",
       "      <th></th>\n",
       "      <th>CreditScore</th>\n",
       "      <th>Age</th>\n",
       "      <th>Balance</th>\n",
       "      <th>NumOfProducts</th>\n",
       "      <th>EstimatedSalary</th>\n",
       "    </tr>\n",
       "  </thead>\n",
       "  <tbody>\n",
       "    <tr>\n",
       "      <th>5361</th>\n",
       "      <td>-0.63</td>\n",
       "      <td>0.70</td>\n",
       "      <td>-1.22</td>\n",
       "      <td>0.81</td>\n",
       "      <td>1.21</td>\n",
       "    </tr>\n",
       "    <tr>\n",
       "      <th>8838</th>\n",
       "      <td>-0.95</td>\n",
       "      <td>-0.55</td>\n",
       "      <td>0.52</td>\n",
       "      <td>-0.92</td>\n",
       "      <td>0.13</td>\n",
       "    </tr>\n",
       "    <tr>\n",
       "      <th>1612</th>\n",
       "      <td>0.16</td>\n",
       "      <td>1.28</td>\n",
       "      <td>-1.22</td>\n",
       "      <td>-0.92</td>\n",
       "      <td>0.26</td>\n",
       "    </tr>\n",
       "    <tr>\n",
       "      <th>8947</th>\n",
       "      <td>0.53</td>\n",
       "      <td>0.41</td>\n",
       "      <td>1.35</td>\n",
       "      <td>-0.92</td>\n",
       "      <td>-1.12</td>\n",
       "    </tr>\n",
       "    <tr>\n",
       "      <th>1989</th>\n",
       "      <td>0.47</td>\n",
       "      <td>-1.03</td>\n",
       "      <td>0.32</td>\n",
       "      <td>-0.92</td>\n",
       "      <td>-0.76</td>\n",
       "    </tr>\n",
       "  </tbody>\n",
       "</table>\n",
       "</div>"
      ],
      "text/plain": [
       "      CreditScore   Age  Balance  NumOfProducts  EstimatedSalary\n",
       "5361        -0.63  0.70    -1.22           0.81             1.21\n",
       "8838        -0.95 -0.55     0.52          -0.92             0.13\n",
       "1612         0.16  1.28    -1.22          -0.92             0.26\n",
       "8947         0.53  0.41     1.35          -0.92            -1.12\n",
       "1989         0.47 -1.03     0.32          -0.92            -0.76"
      ]
     },
     "metadata": {},
     "output_type": "display_data"
    },
    {
     "data": {
      "text/html": [
       "<div>\n",
       "<style scoped>\n",
       "    .dataframe tbody tr th:only-of-type {\n",
       "        vertical-align: middle;\n",
       "    }\n",
       "\n",
       "    .dataframe tbody tr th {\n",
       "        vertical-align: top;\n",
       "    }\n",
       "\n",
       "    .dataframe thead th {\n",
       "        text-align: right;\n",
       "    }\n",
       "</style>\n",
       "<table border=\"1\" class=\"dataframe\">\n",
       "  <thead>\n",
       "    <tr style=\"text-align: right;\">\n",
       "      <th></th>\n",
       "      <th>CreditScore</th>\n",
       "      <th>Age</th>\n",
       "      <th>Balance</th>\n",
       "      <th>NumOfProducts</th>\n",
       "      <th>EstimatedSalary</th>\n",
       "    </tr>\n",
       "  </thead>\n",
       "  <tbody>\n",
       "    <tr>\n",
       "      <th>8026</th>\n",
       "      <td>-0.44</td>\n",
       "      <td>-0.55</td>\n",
       "      <td>0.24</td>\n",
       "      <td>-0.92</td>\n",
       "      <td>0.51</td>\n",
       "    </tr>\n",
       "    <tr>\n",
       "      <th>5808</th>\n",
       "      <td>0.36</td>\n",
       "      <td>2.05</td>\n",
       "      <td>0.65</td>\n",
       "      <td>-0.92</td>\n",
       "      <td>0.33</td>\n",
       "    </tr>\n",
       "    <tr>\n",
       "      <th>7161</th>\n",
       "      <td>0.42</td>\n",
       "      <td>-0.26</td>\n",
       "      <td>0.55</td>\n",
       "      <td>-0.92</td>\n",
       "      <td>-0.35</td>\n",
       "    </tr>\n",
       "    <tr>\n",
       "      <th>7133</th>\n",
       "      <td>0.97</td>\n",
       "      <td>-0.84</td>\n",
       "      <td>0.82</td>\n",
       "      <td>-0.92</td>\n",
       "      <td>0.65</td>\n",
       "    </tr>\n",
       "    <tr>\n",
       "      <th>4661</th>\n",
       "      <td>1.35</td>\n",
       "      <td>0.41</td>\n",
       "      <td>-1.22</td>\n",
       "      <td>-0.92</td>\n",
       "      <td>-1.50</td>\n",
       "    </tr>\n",
       "  </tbody>\n",
       "</table>\n",
       "</div>"
      ],
      "text/plain": [
       "      CreditScore   Age  Balance  NumOfProducts  EstimatedSalary\n",
       "8026        -0.44 -0.55     0.24          -0.92             0.51\n",
       "5808         0.36  2.05     0.65          -0.92             0.33\n",
       "7161         0.42 -0.26     0.55          -0.92            -0.35\n",
       "7133         0.97 -0.84     0.82          -0.92             0.65\n",
       "4661         1.35  0.41    -1.22          -0.92            -1.50"
      ]
     },
     "metadata": {},
     "output_type": "display_data"
    }
   ],
   "source": [
    "#проверим, сработала ли стандартизация\n",
    "display(features_test[numeric].head())\n",
    "display(features_valid[numeric].head())\n",
    "display(features_train[numeric].head())\n"
   ]
  },
  {
   "cell_type": "markdown",
   "metadata": {},
   "source": [
    "## Исследование задачи"
   ]
  },
  {
   "cell_type": "markdown",
   "metadata": {},
   "source": [
    "### Применение дерева решений"
   ]
  },
  {
   "cell_type": "code",
   "execution_count": 44,
   "metadata": {},
   "outputs": [],
   "source": [
    "#Протестируем дерево решений на нашей выборке:\n",
    "model = DecisionTreeClassifier(random_state=12345)\n",
    "model.fit(features_train, target_train)\n",
    "predicted_valid = model.predict(features_valid)\n",
    "\n",
    "\n",
    "probabilities_valid = model.predict_proba(features_valid)\n",
    "probabilities_one_valid = probabilities_valid[:, 1]\n",
    "auc_roc_valid = roc_auc_score(target_valid, probabilities_one_valid)\n"
   ]
  },
  {
   "cell_type": "code",
   "execution_count": 45,
   "metadata": {
    "scrolled": true
   },
   "outputs": [
    {
     "name": "stdout",
     "output_type": "stream",
     "text": [
      "F1 метрика для валидационной выборки дерева решений: 0.5039164490861618\n",
      "AUC-ROC метрика для валидационной выборки дерева решений 0.694212335189406\n"
     ]
    }
   ],
   "source": [
    "print(f'F1 метрика для валидационной выборки дерева решений: {f1_score(target_valid, predicted_valid)}')\n",
    "print(f'AUC-ROC метрика для валидационной выборки дерева решений {auc_roc_valid}')"
   ]
  },
  {
   "cell_type": "markdown",
   "metadata": {},
   "source": [
    "### Применение логистической регрессии"
   ]
  },
  {
   "cell_type": "code",
   "execution_count": 46,
   "metadata": {},
   "outputs": [],
   "source": [
    "#Для контроля проверим логистической регрессией:\n",
    "model = LogisticRegression(random_state=12345, solver='liblinear', class_weight = 'balanced')\n",
    "model.fit(features_train, target_train)\n",
    "predicted_valid = model.predict(features_valid)\n",
    "\n",
    "probabilities_valid = model.predict_proba(features_valid)\n",
    "probabilities_one_valid = probabilities_valid[:, 1]\n",
    "auc_roc_valid = roc_auc_score(target_valid, probabilities_one_valid)\n"
   ]
  },
  {
   "cell_type": "code",
   "execution_count": 47,
   "metadata": {
    "scrolled": true
   },
   "outputs": [
    {
     "name": "stdout",
     "output_type": "stream",
     "text": [
      "F1 метрика для валидационной выборки логистической регрессии: 0.48725212464589235\n",
      "AUC-ROC метрика для валидационной выборки логистической регрессии 0.7729959464527856\n"
     ]
    }
   ],
   "source": [
    "print(f'F1 метрика для валидационной выборки логистической регрессии: {f1_score(target_valid, predicted_valid)}')\n",
    "print(f'AUC-ROC метрика для валидационной выборки логистической регрессии {auc_roc_valid}')"
   ]
  },
  {
   "cell_type": "markdown",
   "metadata": {},
   "source": [
    "### Применение случайного леса"
   ]
  },
  {
   "cell_type": "code",
   "execution_count": 48,
   "metadata": {},
   "outputs": [],
   "source": [
    "#Протестируем случайный лес для нашей выборки и посмотрим на тестовые значения\n",
    "model = RandomForestClassifier(random_state=12345)\n",
    "model.fit(features_train, target_train)\n",
    "predicted_valid = model.predict(features_valid)\n",
    "\n",
    "probabilities_valid = model.predict_proba(features_valid)\n",
    "probabilities_one_valid = probabilities_valid[:, 1]\n",
    "auc_roc_valid = roc_auc_score(target_valid, probabilities_one_valid)\n",
    "\n"
   ]
  },
  {
   "cell_type": "code",
   "execution_count": 49,
   "metadata": {},
   "outputs": [
    {
     "name": "stdout",
     "output_type": "stream",
     "text": [
      "F1 метрика для валидационной выборки случайным лесом: 0.5675213675213674\n",
      "AUC-ROC метрика для валидационной выборки логистической регрессии 0.8387578979256225\n"
     ]
    }
   ],
   "source": [
    "print(f'F1 метрика для валидационной выборки случайным лесом: {f1_score(target_valid, predicted_valid)}')\n",
    "print(f'AUC-ROC метрика для валидационной выборки логистической регрессии {auc_roc_valid}')"
   ]
  },
  {
   "cell_type": "markdown",
   "metadata": {},
   "source": [
    "### Поиск оптимальных параметров случайного леса"
   ]
  },
  {
   "cell_type": "code",
   "execution_count": 50,
   "metadata": {},
   "outputs": [
    {
     "name": "stdout",
     "output_type": "stream",
     "text": [
      "Лучшее значение f1: 0.5502645502645502 для глубины 10\n",
      "CPU times: total: 7.98 s\n",
      "Wall time: 7.98 s\n"
     ]
    }
   ],
   "source": [
    "%%time\n",
    "\n",
    "\n",
    "#Случайный лес подбор глубины\n",
    "best_result = 0\n",
    "best_depth = 0\n",
    "for depth in range(1, 150, 1):\n",
    "    model = RandomForestClassifier(n_estimators=10, max_depth=depth, random_state=12345)\n",
    "    model.fit(features_train, target_train)\n",
    "    predict = model.predict(features_valid)\n",
    "    f1 = f1_score(target_valid, predict)\n",
    "    if best_result < f1:\n",
    "        best_result = f1\n",
    "        best_depth = depth\n",
    "\n",
    "print(f'Лучшее значение f1: {best_result} для глубины {best_depth}')\n",
    "    \n"
   ]
  },
  {
   "cell_type": "code",
   "execution_count": 51,
   "metadata": {
    "scrolled": true
   },
   "outputs": [
    {
     "name": "stdout",
     "output_type": "stream",
     "text": [
      "Лучшее значение f1: 0.5367647058823529 для количества деревьев (est) 195\n",
      "CPU times: total: 8.2 s\n",
      "Wall time: 8.24 s\n"
     ]
    }
   ],
   "source": [
    "%%time \n",
    "\n",
    "best_result = 0\n",
    "best_estimators = 5\n",
    "for est in range(5, 200, 10):\n",
    "    model = RandomForestClassifier(n_estimators=est, max_depth=10, random_state=12345)\n",
    "    model.fit(features_train, target_train)\n",
    "    predict = model.predict(features_valid)\n",
    "    f1 = f1_score(target_valid, predict)\n",
    "    if best_result < f1:\n",
    "        best_result = f1\n",
    "        best_estimators = est\n",
    "\n",
    "print(f'Лучшее значение f1: {best_result} для количества деревьев (est) {est}')"
   ]
  },
  {
   "cell_type": "markdown",
   "metadata": {},
   "source": [
    "Посмотрим на тестовую выборку  с лучшими параметрами случайного леса:"
   ]
  },
  {
   "cell_type": "code",
   "execution_count": 52,
   "metadata": {},
   "outputs": [
    {
     "name": "stdout",
     "output_type": "stream",
     "text": [
      "F1 метрика для тестовой выборки случайным лесом: 0.5650557620817844\n",
      "AUC-ROC метрика для  валидационной выборки случайным лесом 0.860868331228197\n"
     ]
    }
   ],
   "source": [
    "model = RandomForestClassifier(max_depth = 10, n_estimators = 195, random_state=12345)\n",
    "model.fit(features_train, target_train)\n",
    "predicted_test = model.predict(features_test)\n",
    "probabilities_test = model.predict_proba(features_test)\n",
    "probabilities_one_test = probabilities_test[:, 1]\n",
    "auc_roc_test = roc_auc_score(target_test, probabilities_one_test)\n",
    "\n",
    "\n",
    "print(f'F1 метрика для тестовой выборки случайным лесом: {f1_score(target_test, predicted_test)}')\n",
    "print(f'AUC-ROC метрика для  валидационной выборки случайным лесом {auc_roc_test}')"
   ]
  },
  {
   "cell_type": "markdown",
   "metadata": {},
   "source": [
    "На тестовой выборке значение  F1 0,565 для случайного леса, на валидационной: 0,53.\n",
    "Поработаем с дисбалансом классов, но теперь будем рассматривать результаты на тестовой и на валидационной выборке, поскольку мы нашли оптимальную модель. "
   ]
  },
  {
   "cell_type": "markdown",
   "metadata": {},
   "source": [
    "## Борьба с дисбалансом"
   ]
  },
  {
   "cell_type": "markdown",
   "metadata": {},
   "source": [
    "### Взвешивание классов"
   ]
  },
  {
   "cell_type": "code",
   "execution_count": 53,
   "metadata": {},
   "outputs": [
    {
     "name": "stdout",
     "output_type": "stream",
     "text": [
      "F1 метрика для тестовой выборки случайным лесом со взвешенными классами: 0.5675213675213674\n",
      "AUC-ROC метрика для  валидационной выборки случайным лесом со взвешенными классами 0.8536539626669744\n"
     ]
    }
   ],
   "source": [
    "model = RandomForestClassifier(max_depth = 10, n_estimators = 195, random_state=12345, class_weight = 'balanced')\n",
    "model.fit(features_train, target_train)\n",
    "predicted_test = model.predict(features_test)\n",
    "\n",
    "probabilities_valid = model.predict_proba(features_valid)\n",
    "probabilities_one_valid = probabilities_valid[:, 1]\n",
    "auc_roc_valid = roc_auc_score(target_valid, probabilities_one_valid)\n",
    "\n",
    "print(f'F1 метрика для тестовой выборки случайным лесом со взвешенными классами: {f1_score(target_valid, predicted_valid)}')\n",
    "print(f'AUC-ROC метрика для  валидационной выборки случайным лесом со взвешенными классами {auc_roc_valid}')\n"
   ]
  },
  {
   "cell_type": "code",
   "execution_count": 54,
   "metadata": {},
   "outputs": [
    {
     "name": "stdout",
     "output_type": "stream",
     "text": [
      "Лучшая модель случайного леса со взвешенными классами: est: 105, max_depth: 9\n",
      "F1 метрика для валидационной выборки случайным лесом со взвешенными классами: 0.6281407035175879\n",
      "AUC-ROC метрика для  валидационной выборки случайным лесом со взвешенными классами 0.8531598915207294\n",
      "CPU times: total: 16.2 s\n",
      "Wall time: 16.2 s\n"
     ]
    }
   ],
   "source": [
    "%%time\n",
    "\n",
    "best_result = 0\n",
    "best_depth = 0\n",
    "for depth in range(1, 150, 1):\n",
    "    model = RandomForestClassifier(n_estimators=10, max_depth=depth, random_state=12345, class_weight = 'balanced')\n",
    "    model.fit(features_train, target_train)\n",
    "    predict = model.predict(features_valid)\n",
    "    f1 = f1_score(target_valid, predict)\n",
    "    if best_result < f1:\n",
    "        best_result = f1\n",
    "        best_depth = depth\n",
    "\n",
    "best_result = 0\n",
    "best_estimators = 5\n",
    "best_auc_roc = 0\n",
    "for est in range(5, 200, 10):\n",
    "    model = RandomForestClassifier(n_estimators=est, max_depth=best_depth, random_state=12345, class_weight = 'balanced')\n",
    "    model.fit(features_train, target_train)\n",
    "    predict = model.predict(features_valid)\n",
    "    probabilities_valid = model.predict_proba(features_valid)\n",
    "    probabilities_one_valid = probabilities_valid[:, 1]\n",
    "    auc_roc_valid = roc_auc_score(target_valid, probabilities_one_valid)\n",
    "    f1 = f1_score(target_valid, predict)\n",
    "    if best_result < f1:\n",
    "        best_result = f1\n",
    "        best_estimators = est\n",
    "        best_auc_roc = auc_roc_valid\n",
    "        \n",
    "print(f'Лучшая модель случайного леса со взвешенными классами: est: {best_estimators}, max_depth: {best_depth}')\n",
    "print(f'F1 метрика для валидационной выборки случайным лесом со взвешенными классами: {best_result}')\n",
    "print(f'AUC-ROC метрика для  валидационной выборки случайным лесом со взвешенными классами {best_auc_roc}')\n"
   ]
  },
  {
   "cell_type": "markdown",
   "metadata": {},
   "source": [
    "Метрика на валидационной выборке равна 0,62 для взвешенных классов со случкйнам лесом: est:105, max_depth: 9. \n",
    "Это удовлетворительный результат, но поработаем с классами пристальнее."
   ]
  },
  {
   "cell_type": "markdown",
   "metadata": {},
   "source": [
    "### Попробуем увеличение выборки"
   ]
  },
  {
   "cell_type": "code",
   "execution_count": 55,
   "metadata": {},
   "outputs": [],
   "source": [
    "#Используем функцию для увеличения выборки\n",
    "\n",
    "def upsample(features, target, repeat):\n",
    "    features_zeros = features[target == 0]\n",
    "    features_ones = features[target == 1]\n",
    "    target_zeros = target[target == 0]\n",
    "    target_ones = target[target == 1]\n",
    "\n",
    "    features_upsampled = pd.concat([features_zeros] + [features_ones] * repeat)\n",
    "    target_upsampled = pd.concat([target_zeros] + [target_ones] * repeat)\n",
    "    \n",
    "    features_upsampled, target_upsampled = shuffle(\n",
    "        features_upsampled, target_upsampled, random_state=12345)\n",
    "    \n",
    "    return features_upsampled, target_upsampled\n"
   ]
  },
  {
   "cell_type": "code",
   "execution_count": 56,
   "metadata": {},
   "outputs": [
    {
     "name": "stdout",
     "output_type": "stream",
     "text": [
      "F1 метрика для тестовой выборки случайным лесом: 0.6210350584307179 с увеличением 5 на тестовой выборке\n",
      "F1 метрика для валидационной выборки случайным лесом: 0.618096357226792 с увеличением 5\n",
      "AUC-ROC метрика для  валидационной выборки случайным лесом со взвешенными классами 0.8502134964369175\n"
     ]
    }
   ],
   "source": [
    "#Подберем лучшее увеличение выборки для показателей нашей модели (est = 195, max_depth = 10):\n",
    "\n",
    "best_result = 0\n",
    "best_result_test = 0\n",
    "best_upsample_rate = 1\n",
    "best_valid_auc_roc = 0\n",
    "for sample_rate in range(1, 20, 1):\n",
    "    features_upsampled, target_upsampled = upsample(features_train, target_train, sample_rate)\n",
    "    model = RandomForestClassifier(max_depth = 11, n_estimators = 195, random_state=12345)\n",
    "    model.fit(features_upsampled, target_upsampled)\n",
    "    predict = model.predict(features_test)\n",
    "    predict_valid = model.predict(features_valid)\n",
    "    f1 = f1_score(target_valid, predict_valid)\n",
    "    f1_t = f1_score(target_test, predict)\n",
    "    probabilities_valid = model.predict_proba(features_valid)\n",
    "    probabilities_one_valid = probabilities_valid[:, 1]\n",
    "    auc_roc_valid = roc_auc_score(target_valid, probabilities_one_valid)   \n",
    "    if best_result < f1:\n",
    "        best_result = f1\n",
    "        best_result_test = f1_t\n",
    "        best_upsample_rate = sample_rate\n",
    "        best_valid_auc_roc = auc_roc_valid\n",
    "print(f'F1 метрика для тестовой выборки случайным лесом: {best_result_test} с увеличением {best_upsample_rate} на тестовой выборке')\n",
    "print(f'F1 метрика для валидационной выборки случайным лесом: {best_result} с увеличением {best_upsample_rate}')\n",
    "print(f'AUC-ROC метрика для  валидационной выборки случайным лесом со взвешенными классами {best_valid_auc_roc}')\n"
   ]
  },
  {
   "cell_type": "code",
   "execution_count": 57,
   "metadata": {},
   "outputs": [
    {
     "name": "stderr",
     "output_type": "stream",
     "text": [
      "UsageError: Line magic function `%%time` not found.\n"
     ]
    }
   ],
   "source": [
    "#Подберем модель случайного леса с upsample_rate = 5\n",
    "\n",
    "%%time\n",
    "\n",
    "best_result = 0\n",
    "best_depth = 0\n",
    "features_upsampled, target_upsampled = upsample(features_train, target_train, 5)\n",
    "for depth in range(1, 150, 1):\n",
    "    model = RandomForestClassifier(n_estimators=10, max_depth=depth, random_state=12345)\n",
    "    model.fit(features_upsampled, target_upsampled)\n",
    "    predict = model.predict(features_valid)\n",
    "    f1 = f1_score(target_valid, predict)\n",
    "    if best_result < f1:\n",
    "        best_result = f1\n",
    "        best_depth = depth\n",
    "\n",
    "best_result = 0\n",
    "best_estimators = 5\n",
    "best_auc_roc = 0\n",
    "for est in range(5, 200, 10):\n",
    "    model = RandomForestClassifier(n_estimators=est, max_depth=best_depth, random_state=12345)\n",
    "    model.fit(features_upsampled, target_upsampled)\n",
    "    predict = model.predict(features_valid)\n",
    "    probabilities_valid = model.predict_proba(features_valid)\n",
    "    probabilities_one_valid = probabilities_valid[:, 1]\n",
    "    auc_roc_valid = roc_auc_score(target_valid, probabilities_one_valid)\n",
    "    f1 = f1_score(target_valid, predict)\n",
    "    if best_result < f1:\n",
    "        best_result = f1\n",
    "        best_estimators = est\n",
    "        best_auc_roc = auc_roc_valid\n",
    "        \n",
    "print(f'Лучшая модель случайного леса с увеличенной выборкой: est: {best_estimators}, max_depth: {best_depth}')\n",
    "print(f'F1 метрика для валидационной  выборки случайным лесом с увеличенной выборкой: {best_result}')\n",
    "print(f'AUC-ROC метрика для  валидационной выборки случайным лесом с увеличенной выборкой: {best_auc_roc}')\n",
    "\n"
   ]
  },
  {
   "cell_type": "markdown",
   "metadata": {},
   "source": [
    "Мы добились увеличением классов в 4 раза параметра  тестовой выборки F1 = 0,637 (на валидационной F1: 0,61). До сих пор это наилучший результат. "
   ]
  },
  {
   "cell_type": "markdown",
   "metadata": {},
   "source": [
    "### Попробуем уменьшение выборки"
   ]
  },
  {
   "cell_type": "code",
   "execution_count": null,
   "metadata": {},
   "outputs": [],
   "source": [
    "### Попробуем уменьшить выборку\n",
    "\n",
    "def downsample(features, target, fraction):\n",
    "    features_zeros = features[target == 0]\n",
    "    features_ones = features[target == 1]\n",
    "    target_zeros = target[target == 0]\n",
    "    target_ones = target[target == 1]\n",
    "\n",
    "    features_downsampled = pd.concat([features_zeros.sample(frac=0.1, random_state=12345)] + [features_ones])\n",
    "    target_downsampled = pd.concat([target_zeros.sample(frac=0.1, random_state=12345)] + [target_ones])\n",
    "    features_downsampled  = shuffle(features_downsampled, random_state = 12345)\n",
    "    target_downsampled = shuffle(target_downsampled, random_state = 12345)\n",
    "    return features_downsampled, target_downsampled\n",
    "\n",
    "features_downsampled, target_downsampled = downsample(features_train, target_train, 0.1)\n",
    "\n",
    "model = RandomForestClassifier(max_depth = 11, n_estimators = 195, random_state=12345)\n",
    "model.fit(features_downsampled, target_downsampled)\n",
    "predicted_test = model.predict(features_test)\n",
    "print(f'F1 метрика для тестовой выборки случайным лесом: {f1_score(target_test, predicted_test)}')"
   ]
  },
  {
   "cell_type": "markdown",
   "metadata": {},
   "source": [
    "Уменьшение выборки ухудшает модель. Принимаем за лучшее из возможных способов обучение модели на основе случайного леса (195 est, max_depth = 12, увеличение выборки в 4 раза). Лучший параметр F1 = 0.637"
   ]
  },
  {
   "cell_type": "markdown",
   "metadata": {},
   "source": [
    "## Тестирование модели"
   ]
  },
  {
   "cell_type": "code",
   "execution_count": null,
   "metadata": {},
   "outputs": [],
   "source": [
    "#Еще раз применим модель с наилучшими параметрами и вычислим F1 на тестовой выборке\n",
    "features_upsampled, target_upsampled = upsample(features_train, target_train, 4)\n",
    "\n",
    "model = RandomForestClassifier(max_depth = 11, n_estimators = 195, random_state=12345)\n",
    "model.fit(features_upsampled, target_upsampled)\n",
    "predicted_test = model.predict(features_test)\n",
    "probabilities_test = model.predict_proba(features_test)\n",
    "probabilities_one_test = probabilities_test[:, 1]\n",
    "auc_roc_test = roc_auc_score(target_test, probabilities_one_test)\n",
    "\n",
    "\n",
    "\n",
    "\n",
    "print(f'F1 метрика для тестовой выборки случайным лесом: {f1_score(target_test, predicted_test)}')\n",
    "print(f'AUC-ROC метрика для  валидационной выборки случайным лесом {auc_roc_test}')\n"
   ]
  },
  {
   "cell_type": "markdown",
   "metadata": {},
   "source": [
    "Вывод: в наилучшей из полученных моделей среднее гармоническое между точностью и полнотой равно 0,637 (в абсолютно идеальной модели оно равно 1). Также эта модель имеет наивысшее значение AUC-ROC, что говорит о лучшем качестве модели (модель тем лучше, чем ближе параметр к 1). "
   ]
  },
  {
   "cell_type": "markdown",
   "metadata": {},
   "source": [
    "Любопытно отметить, что на тестовой выборке модель отработала лучше, чем на валидационной. Это позволяет сказать, что модель не переобучена и ей можно добавить данных в тренировочную выборку. "
   ]
  },
  {
   "cell_type": "markdown",
   "metadata": {},
   "source": [
    "## Выводы"
   ]
  },
  {
   "cell_type": "markdown",
   "metadata": {},
   "source": [
    "Задачей ставилось создание обучающей модели, которая сможет предсказать, перестанет клиент пользоваться услугами банка, или нет.\n",
    "Исходные данные включали в себя 10 000 позиций для клиентов от 18 до 92 лет, разное время пользующихся услугами банка и ушедшими (или не ушедшими. Требовалось добиться от модели метрики F1 (среднее гармоническое по точности и полноте) не менее 59%. <br>\n",
    "\n",
    "1. Подготовка данных:   \n",
    "    1.1. Промущенные значения в столбце Tenure (время пользования банком) заменены на медианные. Удалены фамилии пользователей как незначимые для обучения. <br>\n",
    "    1.2. Категориальные данные подготовлены методом OHE.<br>\n",
    "    1.3. Численные признаки стандартизированы. <br>\n",
    "    1.4. Данные разделены на учебные 75% и тестовые 25%. <br>\n",
    "    1.5. Учебные данные разделены на тренировочные 75% и валидационные 25%. <br>\n",
    "2. Исследование задачи на валидационной выборке:<br>\n",
    "    2.1. Исследовано дерево решений: F1: 0.49, AUC-ROC: 0.69 <br>\n",
    "    2.2. Применение логистической регрессии: F1: 0.49, AUC-ROC: 0.77 <br>\n",
    "    2.3. Применение случайного леса: F1: 0.56, AUC-ROC: 0.83<br>\n",
    "    2.4. Найдены лучие параметры случайного леса (max_depth = 11, n_estimators = 195). <br>\n",
    "    Результат на тестовой выборке лучшей модели случайного леса:  F1: 0.59, AUC-ROC: 0.86<br>\n",
    "3. Борьба с дисбалансом<br>\n",
    "    3.1. Взвешивание классов на валидационной выборке дало F1: 0.58, AUC-ROC: 0.85 <br>\n",
    "    3.2. Увеличение выборки в 4 раза дало для валидационной выборки F1: 0.61, AUC-ROC: 0.85   <br>\n",
    "    3.3. Уменьшение выборки к улучшению результатов не привело. <br>\n",
    "4. Тестиование оптимальной модели: F1: 0.637, AUC-ROC: 0.86 <br>\n",
    "\n",
    "Получена оптимальная удовлетворительная модель для ответа на вопрос о пользовании услугами банка на основании данных клиента. F1: 0.637, AUC-ROC: 0.86. Случайный лес с увеличением выборки в 4 раза,  max_depth = 11, n_estimators = 195.\n",
    "\n",
    "Рекомендации:\n",
    "Поскольку показатели на тестовой выборке выше, чем на валидационной, модель не является переобученной. Можно добавить данных для обучения. \n"
   ]
  },
  {
   "cell_type": "code",
   "execution_count": null,
   "metadata": {},
   "outputs": [],
   "source": []
  }
 ],
 "metadata": {
  "ExecuteTimeLog": [
   {
    "duration": 64,
    "start_time": "2022-07-26T13:26:10.916Z"
   },
   {
    "duration": 1539,
    "start_time": "2022-07-26T13:26:19.148Z"
   },
   {
    "duration": 113,
    "start_time": "2022-07-26T13:26:21.216Z"
   },
   {
    "duration": 89,
    "start_time": "2022-07-26T13:26:29.196Z"
   },
   {
    "duration": 11,
    "start_time": "2022-07-26T13:27:43.445Z"
   },
   {
    "duration": 11,
    "start_time": "2022-07-26T13:27:50.990Z"
   },
   {
    "duration": 28,
    "start_time": "2022-07-26T13:29:06.602Z"
   },
   {
    "duration": 9,
    "start_time": "2022-07-26T13:29:59.525Z"
   },
   {
    "duration": 17,
    "start_time": "2022-07-26T13:30:24.583Z"
   },
   {
    "duration": 8,
    "start_time": "2022-07-26T13:30:31.756Z"
   },
   {
    "duration": 13,
    "start_time": "2022-07-26T13:30:51.663Z"
   },
   {
    "duration": 10,
    "start_time": "2022-07-26T13:30:56.015Z"
   },
   {
    "duration": 16,
    "start_time": "2022-07-26T13:31:05.584Z"
   },
   {
    "duration": 8,
    "start_time": "2022-07-26T13:31:29.227Z"
   },
   {
    "duration": 5,
    "start_time": "2022-07-26T13:32:13.620Z"
   },
   {
    "duration": 5,
    "start_time": "2022-07-26T13:32:40.021Z"
   },
   {
    "duration": 20,
    "start_time": "2022-07-26T13:33:15.335Z"
   },
   {
    "duration": 8,
    "start_time": "2022-07-26T13:33:55.280Z"
   },
   {
    "duration": 8,
    "start_time": "2022-07-26T13:34:03.240Z"
   },
   {
    "duration": 4,
    "start_time": "2022-07-26T13:34:06.607Z"
   },
   {
    "duration": 24,
    "start_time": "2022-07-26T13:35:20.244Z"
   },
   {
    "duration": 54,
    "start_time": "2022-07-27T10:25:11.189Z"
   },
   {
    "duration": 11,
    "start_time": "2022-07-27T10:27:53.428Z"
   },
   {
    "duration": 34,
    "start_time": "2022-07-27T10:28:31.866Z"
   },
   {
    "duration": 3,
    "start_time": "2022-07-27T10:35:10.933Z"
   },
   {
    "duration": 10,
    "start_time": "2022-07-27T10:35:22.085Z"
   },
   {
    "duration": 3,
    "start_time": "2022-07-27T10:36:29.727Z"
   },
   {
    "duration": 5,
    "start_time": "2022-07-27T10:39:06.655Z"
   },
   {
    "duration": 5,
    "start_time": "2022-07-27T10:39:22.865Z"
   },
   {
    "duration": 114,
    "start_time": "2022-07-27T10:39:28.723Z"
   },
   {
    "duration": 0,
    "start_time": "2022-07-27T10:39:28.839Z"
   },
   {
    "duration": 0,
    "start_time": "2022-07-27T10:39:28.839Z"
   },
   {
    "duration": 0,
    "start_time": "2022-07-27T10:39:28.840Z"
   },
   {
    "duration": 0,
    "start_time": "2022-07-27T10:39:28.841Z"
   },
   {
    "duration": 0,
    "start_time": "2022-07-27T10:39:28.842Z"
   },
   {
    "duration": 1,
    "start_time": "2022-07-27T10:39:28.842Z"
   },
   {
    "duration": 0,
    "start_time": "2022-07-27T10:39:28.843Z"
   },
   {
    "duration": 0,
    "start_time": "2022-07-27T10:39:28.844Z"
   },
   {
    "duration": 0,
    "start_time": "2022-07-27T10:39:28.845Z"
   },
   {
    "duration": 4,
    "start_time": "2022-07-27T10:39:36.844Z"
   },
   {
    "duration": 4,
    "start_time": "2022-07-27T10:39:39.794Z"
   },
   {
    "duration": 4,
    "start_time": "2022-07-27T10:39:41.996Z"
   },
   {
    "duration": 78,
    "start_time": "2022-07-27T10:39:46.207Z"
   },
   {
    "duration": 45,
    "start_time": "2022-07-27T10:39:47.940Z"
   },
   {
    "duration": 3,
    "start_time": "2022-07-27T10:39:48.769Z"
   },
   {
    "duration": 12,
    "start_time": "2022-07-27T10:39:50.931Z"
   },
   {
    "duration": 8,
    "start_time": "2022-07-27T10:39:53.261Z"
   },
   {
    "duration": 5,
    "start_time": "2022-07-27T10:39:57.130Z"
   },
   {
    "duration": 20,
    "start_time": "2022-07-27T10:39:58.026Z"
   },
   {
    "duration": 19,
    "start_time": "2022-07-27T10:39:59.006Z"
   },
   {
    "duration": 5,
    "start_time": "2022-07-27T10:40:01.025Z"
   },
   {
    "duration": 5,
    "start_time": "2022-07-27T10:40:01.929Z"
   },
   {
    "duration": 12,
    "start_time": "2022-07-27T10:42:30.251Z"
   },
   {
    "duration": 4,
    "start_time": "2022-07-27T10:43:09.850Z"
   },
   {
    "duration": 6,
    "start_time": "2022-07-27T10:43:21.437Z"
   },
   {
    "duration": 5,
    "start_time": "2022-07-27T10:44:03.205Z"
   },
   {
    "duration": 14,
    "start_time": "2022-07-27T10:44:55.745Z"
   },
   {
    "duration": 22,
    "start_time": "2022-07-27T10:45:05.178Z"
   },
   {
    "duration": 18,
    "start_time": "2022-07-27T10:45:35.392Z"
   },
   {
    "duration": 18,
    "start_time": "2022-07-27T10:45:43.307Z"
   },
   {
    "duration": 14,
    "start_time": "2022-07-27T10:45:46.410Z"
   },
   {
    "duration": 3,
    "start_time": "2022-07-27T10:48:05.486Z"
   },
   {
    "duration": 5,
    "start_time": "2022-07-27T10:48:59.792Z"
   },
   {
    "duration": 5,
    "start_time": "2022-07-27T10:49:57.447Z"
   },
   {
    "duration": 2,
    "start_time": "2022-07-27T10:50:16.505Z"
   },
   {
    "duration": 6,
    "start_time": "2022-07-27T10:50:27.741Z"
   },
   {
    "duration": 5,
    "start_time": "2022-07-27T10:50:59.401Z"
   },
   {
    "duration": 7,
    "start_time": "2022-07-27T10:51:07.632Z"
   },
   {
    "duration": 92,
    "start_time": "2022-07-27T10:51:17.927Z"
   },
   {
    "duration": 6,
    "start_time": "2022-07-27T10:51:27.427Z"
   },
   {
    "duration": 7,
    "start_time": "2022-07-27T10:51:56.533Z"
   },
   {
    "duration": 2,
    "start_time": "2022-07-27T10:53:22.169Z"
   },
   {
    "duration": 2,
    "start_time": "2022-07-27T10:53:55.230Z"
   },
   {
    "duration": 5,
    "start_time": "2022-07-27T10:54:32.827Z"
   },
   {
    "duration": 9,
    "start_time": "2022-07-27T10:55:50.048Z"
   },
   {
    "duration": 4,
    "start_time": "2022-07-27T10:55:58.345Z"
   },
   {
    "duration": 10,
    "start_time": "2022-07-27T10:57:29.492Z"
   },
   {
    "duration": 26,
    "start_time": "2022-07-27T10:58:25.534Z"
   },
   {
    "duration": 10,
    "start_time": "2022-07-27T10:58:30.532Z"
   },
   {
    "duration": 34,
    "start_time": "2022-07-27T10:58:31.678Z"
   },
   {
    "duration": 15,
    "start_time": "2022-07-27T10:58:32.671Z"
   },
   {
    "duration": 100,
    "start_time": "2022-07-27T10:58:39.641Z"
   },
   {
    "duration": 0,
    "start_time": "2022-07-27T10:58:39.743Z"
   },
   {
    "duration": 0,
    "start_time": "2022-07-27T10:58:39.744Z"
   },
   {
    "duration": 0,
    "start_time": "2022-07-27T10:58:39.744Z"
   },
   {
    "duration": 0,
    "start_time": "2022-07-27T10:58:39.745Z"
   },
   {
    "duration": 0,
    "start_time": "2022-07-27T10:58:39.746Z"
   },
   {
    "duration": 0,
    "start_time": "2022-07-27T10:58:39.747Z"
   },
   {
    "duration": 1,
    "start_time": "2022-07-27T10:58:39.747Z"
   },
   {
    "duration": 0,
    "start_time": "2022-07-27T10:58:39.748Z"
   },
   {
    "duration": 0,
    "start_time": "2022-07-27T10:58:39.749Z"
   },
   {
    "duration": 0,
    "start_time": "2022-07-27T10:58:39.750Z"
   },
   {
    "duration": 0,
    "start_time": "2022-07-27T10:58:39.751Z"
   },
   {
    "duration": 0,
    "start_time": "2022-07-27T10:58:39.752Z"
   },
   {
    "duration": 0,
    "start_time": "2022-07-27T10:58:39.752Z"
   },
   {
    "duration": 0,
    "start_time": "2022-07-27T10:58:39.753Z"
   },
   {
    "duration": 0,
    "start_time": "2022-07-27T10:58:39.754Z"
   },
   {
    "duration": 0,
    "start_time": "2022-07-27T10:58:39.755Z"
   },
   {
    "duration": 3,
    "start_time": "2022-07-27T10:58:53.423Z"
   },
   {
    "duration": 18,
    "start_time": "2022-07-27T10:58:54.695Z"
   },
   {
    "duration": 7,
    "start_time": "2022-07-27T10:58:59.780Z"
   },
   {
    "duration": 5,
    "start_time": "2022-07-27T10:59:01.216Z"
   },
   {
    "duration": 31,
    "start_time": "2022-07-27T11:00:47.941Z"
   },
   {
    "duration": 59,
    "start_time": "2022-07-27T11:02:01.154Z"
   },
   {
    "duration": 9,
    "start_time": "2022-07-27T11:03:21.353Z"
   },
   {
    "duration": 10,
    "start_time": "2022-07-27T11:03:26.116Z"
   },
   {
    "duration": 10,
    "start_time": "2022-07-27T11:03:32.602Z"
   },
   {
    "duration": 10,
    "start_time": "2022-07-27T11:03:43.136Z"
   },
   {
    "duration": 62,
    "start_time": "2022-07-27T11:04:59.679Z"
   },
   {
    "duration": 6,
    "start_time": "2022-07-27T11:06:02.504Z"
   },
   {
    "duration": 5,
    "start_time": "2022-07-27T11:06:04.639Z"
   },
   {
    "duration": 20,
    "start_time": "2022-07-27T11:06:06.772Z"
   },
   {
    "duration": 56,
    "start_time": "2022-07-27T11:06:15.282Z"
   },
   {
    "duration": 7,
    "start_time": "2022-07-27T11:06:30.741Z"
   },
   {
    "duration": 6,
    "start_time": "2022-07-27T11:06:34.370Z"
   },
   {
    "duration": 24,
    "start_time": "2022-07-27T11:06:38.853Z"
   },
   {
    "duration": 7,
    "start_time": "2022-07-27T11:07:11.491Z"
   },
   {
    "duration": 5,
    "start_time": "2022-07-27T11:07:13.641Z"
   },
   {
    "duration": 19,
    "start_time": "2022-07-27T11:07:16.526Z"
   },
   {
    "duration": 158,
    "start_time": "2022-07-27T11:07:23.284Z"
   },
   {
    "duration": 0,
    "start_time": "2022-07-27T11:07:23.445Z"
   },
   {
    "duration": 0,
    "start_time": "2022-07-27T11:07:23.446Z"
   },
   {
    "duration": 0,
    "start_time": "2022-07-27T11:07:23.447Z"
   },
   {
    "duration": 0,
    "start_time": "2022-07-27T11:07:23.448Z"
   },
   {
    "duration": 0,
    "start_time": "2022-07-27T11:07:23.449Z"
   },
   {
    "duration": 0,
    "start_time": "2022-07-27T11:07:23.450Z"
   },
   {
    "duration": 0,
    "start_time": "2022-07-27T11:07:23.451Z"
   },
   {
    "duration": 0,
    "start_time": "2022-07-27T11:07:23.452Z"
   },
   {
    "duration": 0,
    "start_time": "2022-07-27T11:07:23.453Z"
   },
   {
    "duration": 0,
    "start_time": "2022-07-27T11:07:23.454Z"
   },
   {
    "duration": 0,
    "start_time": "2022-07-27T11:07:23.455Z"
   },
   {
    "duration": 0,
    "start_time": "2022-07-27T11:07:23.456Z"
   },
   {
    "duration": 0,
    "start_time": "2022-07-27T11:07:23.456Z"
   },
   {
    "duration": 0,
    "start_time": "2022-07-27T11:07:23.457Z"
   },
   {
    "duration": 0,
    "start_time": "2022-07-27T11:07:23.458Z"
   },
   {
    "duration": 0,
    "start_time": "2022-07-27T11:07:23.459Z"
   },
   {
    "duration": 0,
    "start_time": "2022-07-27T11:07:23.460Z"
   },
   {
    "duration": 0,
    "start_time": "2022-07-27T11:07:23.461Z"
   },
   {
    "duration": 0,
    "start_time": "2022-07-27T11:07:23.462Z"
   },
   {
    "duration": 5,
    "start_time": "2022-07-27T11:07:29.985Z"
   },
   {
    "duration": 19,
    "start_time": "2022-07-27T11:07:35.643Z"
   },
   {
    "duration": 66,
    "start_time": "2022-07-27T11:07:36.927Z"
   },
   {
    "duration": 7,
    "start_time": "2022-07-27T11:08:16.889Z"
   },
   {
    "duration": 8,
    "start_time": "2022-07-27T11:08:32.439Z"
   },
   {
    "duration": 6,
    "start_time": "2022-07-27T11:08:46.824Z"
   },
   {
    "duration": 28,
    "start_time": "2022-07-27T11:08:56.803Z"
   },
   {
    "duration": 40,
    "start_time": "2022-07-27T11:09:22.235Z"
   },
   {
    "duration": 45,
    "start_time": "2022-07-27T11:09:27.202Z"
   },
   {
    "duration": 106,
    "start_time": "2022-07-27T11:09:29.028Z"
   },
   {
    "duration": 46,
    "start_time": "2022-07-27T11:09:29.630Z"
   },
   {
    "duration": 4,
    "start_time": "2022-07-27T11:09:30.066Z"
   },
   {
    "duration": 11,
    "start_time": "2022-07-27T11:09:30.745Z"
   },
   {
    "duration": 7,
    "start_time": "2022-07-27T11:09:31.170Z"
   },
   {
    "duration": 5,
    "start_time": "2022-07-27T11:09:31.386Z"
   },
   {
    "duration": 19,
    "start_time": "2022-07-27T11:09:31.601Z"
   },
   {
    "duration": 20,
    "start_time": "2022-07-27T11:09:31.866Z"
   },
   {
    "duration": 3,
    "start_time": "2022-07-27T11:09:32.291Z"
   },
   {
    "duration": 6,
    "start_time": "2022-07-27T11:09:32.535Z"
   },
   {
    "duration": 12,
    "start_time": "2022-07-27T11:09:32.770Z"
   },
   {
    "duration": 32,
    "start_time": "2022-07-27T11:09:33.161Z"
   },
   {
    "duration": 12,
    "start_time": "2022-07-27T11:09:33.570Z"
   },
   {
    "duration": 16,
    "start_time": "2022-07-27T11:09:34.009Z"
   },
   {
    "duration": 5,
    "start_time": "2022-07-27T11:09:34.554Z"
   },
   {
    "duration": 4,
    "start_time": "2022-07-27T11:09:35.036Z"
   },
   {
    "duration": 18,
    "start_time": "2022-07-27T11:09:35.258Z"
   },
   {
    "duration": 7,
    "start_time": "2022-07-27T11:09:35.738Z"
   },
   {
    "duration": 7,
    "start_time": "2022-07-27T11:09:37.979Z"
   },
   {
    "duration": 25,
    "start_time": "2022-07-27T11:09:39.786Z"
   },
   {
    "duration": 60,
    "start_time": "2022-07-27T11:09:53.134Z"
   },
   {
    "duration": 46,
    "start_time": "2022-07-27T11:10:22.937Z"
   },
   {
    "duration": 139,
    "start_time": "2022-07-27T11:10:29.536Z"
   },
   {
    "duration": 95,
    "start_time": "2022-07-27T11:11:04.551Z"
   },
   {
    "duration": 3,
    "start_time": "2022-07-27T11:11:38.888Z"
   },
   {
    "duration": 11,
    "start_time": "2022-07-27T11:11:42.060Z"
   },
   {
    "duration": 68,
    "start_time": "2022-07-27T11:13:04.715Z"
   },
   {
    "duration": 60,
    "start_time": "2022-07-27T11:13:07.875Z"
   },
   {
    "duration": 65,
    "start_time": "2022-07-27T11:13:50.074Z"
   },
   {
    "duration": 60,
    "start_time": "2022-07-27T11:14:10.164Z"
   },
   {
    "duration": 64,
    "start_time": "2022-07-27T11:17:25.841Z"
   },
   {
    "duration": 2477,
    "start_time": "2022-07-27T11:18:19.273Z"
   },
   {
    "duration": 35,
    "start_time": "2022-07-27T11:20:15.423Z"
   },
   {
    "duration": 495,
    "start_time": "2022-07-27T11:35:26.654Z"
   },
   {
    "duration": 489,
    "start_time": "2022-07-27T11:35:49.370Z"
   },
   {
    "duration": 55,
    "start_time": "2022-07-27T11:36:51.681Z"
   },
   {
    "duration": 484,
    "start_time": "2022-07-27T11:36:57.381Z"
   },
   {
    "duration": 482,
    "start_time": "2022-07-27T11:37:04.069Z"
   },
   {
    "duration": 488,
    "start_time": "2022-07-27T11:37:14.502Z"
   },
   {
    "duration": 506,
    "start_time": "2022-07-27T11:42:40.949Z"
   },
   {
    "duration": 490,
    "start_time": "2022-07-27T11:43:17.674Z"
   },
   {
    "duration": 3,
    "start_time": "2022-07-27T11:43:50.614Z"
   },
   {
    "duration": 3,
    "start_time": "2022-07-27T11:44:40.065Z"
   },
   {
    "duration": 14,
    "start_time": "2022-07-27T11:45:05.314Z"
   },
   {
    "duration": 32,
    "start_time": "2022-07-27T11:45:22.285Z"
   },
   {
    "duration": 18,
    "start_time": "2022-07-27T11:46:35.310Z"
   },
   {
    "duration": 54,
    "start_time": "2022-07-27T11:46:39.801Z"
   },
   {
    "duration": 5,
    "start_time": "2022-07-27T11:46:42.726Z"
   },
   {
    "duration": 7,
    "start_time": "2022-07-27T11:46:55.761Z"
   },
   {
    "duration": 6,
    "start_time": "2022-07-27T11:47:25.193Z"
   },
   {
    "duration": 53,
    "start_time": "2022-07-27T11:47:30.154Z"
   },
   {
    "duration": 261,
    "start_time": "2022-07-27T11:48:41.012Z"
   },
   {
    "duration": 53,
    "start_time": "2022-07-27T11:50:02.738Z"
   },
   {
    "duration": 44,
    "start_time": "2022-07-27T11:50:02.793Z"
   },
   {
    "duration": 3,
    "start_time": "2022-07-27T11:50:02.839Z"
   },
   {
    "duration": 20,
    "start_time": "2022-07-27T11:50:02.844Z"
   },
   {
    "duration": 22,
    "start_time": "2022-07-27T11:50:02.865Z"
   },
   {
    "duration": 19,
    "start_time": "2022-07-27T11:50:02.889Z"
   },
   {
    "duration": 35,
    "start_time": "2022-07-27T11:50:02.909Z"
   },
   {
    "duration": 33,
    "start_time": "2022-07-27T11:50:02.945Z"
   },
   {
    "duration": 8,
    "start_time": "2022-07-27T11:50:02.979Z"
   },
   {
    "duration": 14,
    "start_time": "2022-07-27T11:50:02.989Z"
   },
   {
    "duration": 26,
    "start_time": "2022-07-27T11:50:03.004Z"
   },
   {
    "duration": 37,
    "start_time": "2022-07-27T11:50:03.031Z"
   },
   {
    "duration": 11,
    "start_time": "2022-07-27T11:50:03.070Z"
   },
   {
    "duration": 18,
    "start_time": "2022-07-27T11:50:03.082Z"
   },
   {
    "duration": 5,
    "start_time": "2022-07-27T11:50:03.101Z"
   },
   {
    "duration": 27,
    "start_time": "2022-07-27T11:50:03.107Z"
   },
   {
    "duration": 50,
    "start_time": "2022-07-27T11:50:03.135Z"
   },
   {
    "duration": 7,
    "start_time": "2022-07-27T11:50:03.187Z"
   },
   {
    "duration": 18,
    "start_time": "2022-07-27T11:50:03.195Z"
   },
   {
    "duration": 7,
    "start_time": "2022-07-27T11:50:33.026Z"
   },
   {
    "duration": 7,
    "start_time": "2022-07-27T11:50:38.670Z"
   },
   {
    "duration": 8,
    "start_time": "2022-07-27T11:50:45.865Z"
   },
   {
    "duration": 54,
    "start_time": "2022-07-27T11:50:59.219Z"
   },
   {
    "duration": 58,
    "start_time": "2022-07-27T11:51:07.415Z"
   },
   {
    "duration": 60,
    "start_time": "2022-07-27T11:51:11.674Z"
   },
   {
    "duration": 54,
    "start_time": "2022-07-27T11:51:25.616Z"
   },
   {
    "duration": 57,
    "start_time": "2022-07-27T11:51:34.214Z"
   },
   {
    "duration": 54,
    "start_time": "2022-07-27T11:51:38.661Z"
   },
   {
    "duration": 53,
    "start_time": "2022-07-27T11:51:50.416Z"
   },
   {
    "duration": 105,
    "start_time": "2022-07-27T11:52:04.230Z"
   },
   {
    "duration": 257,
    "start_time": "2022-07-27T11:52:24.054Z"
   },
   {
    "duration": 248,
    "start_time": "2022-07-27T11:52:53.062Z"
   },
   {
    "duration": 252,
    "start_time": "2022-07-27T11:53:59.962Z"
   },
   {
    "duration": 107,
    "start_time": "2022-07-27T11:55:58.934Z"
   },
   {
    "duration": 109,
    "start_time": "2022-07-27T11:56:01.945Z"
   },
   {
    "duration": 110,
    "start_time": "2022-07-27T11:56:05.947Z"
   },
   {
    "duration": 2,
    "start_time": "2022-07-27T11:56:29.025Z"
   },
   {
    "duration": 8,
    "start_time": "2022-07-27T11:56:30.997Z"
   },
   {
    "duration": 3,
    "start_time": "2022-07-27T11:57:37.977Z"
   },
   {
    "duration": 193,
    "start_time": "2022-07-27T11:57:51.749Z"
   },
   {
    "duration": 5,
    "start_time": "2022-07-27T11:58:11.431Z"
   },
   {
    "duration": 5,
    "start_time": "2022-07-27T11:58:41.498Z"
   },
   {
    "duration": 3,
    "start_time": "2022-07-27T11:58:50.777Z"
   },
   {
    "duration": 120,
    "start_time": "2022-07-27T11:59:10.029Z"
   },
   {
    "duration": 5,
    "start_time": "2022-07-27T11:59:11.738Z"
   },
   {
    "duration": 5,
    "start_time": "2022-07-27T11:59:25.235Z"
   },
   {
    "duration": 1869,
    "start_time": "2022-07-27T12:01:05.013Z"
   },
   {
    "duration": 2613,
    "start_time": "2022-07-27T12:01:25.086Z"
   },
   {
    "duration": 529,
    "start_time": "2022-07-27T12:02:55.238Z"
   },
   {
    "duration": 104,
    "start_time": "2022-07-27T12:03:39.023Z"
   },
   {
    "duration": 5,
    "start_time": "2022-07-27T12:03:48.941Z"
   },
   {
    "duration": 981,
    "start_time": "2022-07-27T12:04:41.431Z"
   },
   {
    "duration": 5,
    "start_time": "2022-07-27T12:04:43.725Z"
   },
   {
    "duration": 5,
    "start_time": "2022-07-27T12:04:46.178Z"
   },
   {
    "duration": 4232,
    "start_time": "2022-07-27T12:05:06.425Z"
   },
   {
    "duration": 545,
    "start_time": "2022-07-27T12:05:25.997Z"
   },
   {
    "duration": 212,
    "start_time": "2022-07-27T12:06:49.958Z"
   },
   {
    "duration": 218,
    "start_time": "2022-07-27T12:07:13.645Z"
   },
   {
    "duration": 211,
    "start_time": "2022-07-27T12:07:28.681Z"
   },
   {
    "duration": 197,
    "start_time": "2022-07-27T12:08:04.412Z"
   },
   {
    "duration": 536,
    "start_time": "2022-07-27T12:08:43.541Z"
   },
   {
    "duration": 564,
    "start_time": "2022-07-27T12:09:07.129Z"
   },
   {
    "duration": 4170,
    "start_time": "2022-07-27T12:09:15.153Z"
   },
   {
    "duration": 957,
    "start_time": "2022-07-27T12:09:23.548Z"
   },
   {
    "duration": 5,
    "start_time": "2022-07-27T12:09:26.086Z"
   },
   {
    "duration": 6,
    "start_time": "2022-07-27T12:09:28.162Z"
   },
   {
    "duration": 13501,
    "start_time": "2022-07-27T12:10:13.255Z"
   },
   {
    "duration": 1890,
    "start_time": "2022-07-27T12:10:59.550Z"
   },
   {
    "duration": 716,
    "start_time": "2022-07-27T12:11:40.857Z"
   },
   {
    "duration": 844,
    "start_time": "2022-07-27T12:12:01.873Z"
   },
   {
    "duration": 976,
    "start_time": "2022-07-27T12:12:07.285Z"
   },
   {
    "duration": 7806,
    "start_time": "2022-07-27T12:12:15.830Z"
   },
   {
    "duration": 1538,
    "start_time": "2022-07-27T12:12:31.888Z"
   },
   {
    "duration": 1057,
    "start_time": "2022-07-27T12:12:40.386Z"
   },
   {
    "duration": 924,
    "start_time": "2022-07-27T12:12:46.879Z"
   },
   {
    "duration": 1056,
    "start_time": "2022-07-27T12:12:51.914Z"
   },
   {
    "duration": 1428,
    "start_time": "2022-07-27T12:12:58.894Z"
   },
   {
    "duration": 1035,
    "start_time": "2022-07-27T12:13:04.453Z"
   },
   {
    "duration": 16486,
    "start_time": "2022-07-27T12:13:11.350Z"
   },
   {
    "duration": 1604,
    "start_time": "2022-07-27T12:13:42.311Z"
   },
   {
    "duration": 3,
    "start_time": "2022-07-27T12:15:55.649Z"
   },
   {
    "duration": 1615,
    "start_time": "2022-07-27T12:16:50.330Z"
   },
   {
    "duration": 2,
    "start_time": "2022-07-27T12:18:58.555Z"
   },
   {
    "duration": 23,
    "start_time": "2022-07-27T12:19:47.790Z"
   },
   {
    "duration": 27,
    "start_time": "2022-07-27T12:20:07.137Z"
   },
   {
    "duration": 2905,
    "start_time": "2022-07-27T12:20:15.846Z"
   },
   {
    "duration": 597,
    "start_time": "2022-07-27T12:21:44.719Z"
   },
   {
    "duration": 2322,
    "start_time": "2022-07-27T12:22:12.718Z"
   },
   {
    "duration": 1846,
    "start_time": "2022-07-27T12:22:18.601Z"
   },
   {
    "duration": 4213,
    "start_time": "2022-07-27T12:22:27.547Z"
   },
   {
    "duration": 1628,
    "start_time": "2022-07-27T12:22:36.534Z"
   },
   {
    "duration": 2040,
    "start_time": "2022-07-27T12:22:47.909Z"
   },
   {
    "duration": 2182,
    "start_time": "2022-07-27T12:22:55.490Z"
   },
   {
    "duration": 2360,
    "start_time": "2022-07-27T12:23:02.331Z"
   },
   {
    "duration": 2208,
    "start_time": "2022-07-27T12:23:08.301Z"
   },
   {
    "duration": 2312,
    "start_time": "2022-07-27T12:24:00.142Z"
   },
   {
    "duration": 3061,
    "start_time": "2022-07-27T12:24:07.429Z"
   },
   {
    "duration": 2288,
    "start_time": "2022-07-27T12:24:16.633Z"
   },
   {
    "duration": 13898,
    "start_time": "2022-07-27T12:24:32.124Z"
   },
   {
    "duration": 4145,
    "start_time": "2022-07-27T12:24:50.439Z"
   },
   {
    "duration": 2328,
    "start_time": "2022-07-27T12:24:59.862Z"
   },
   {
    "duration": 602,
    "start_time": "2022-07-27T12:25:46.482Z"
   },
   {
    "duration": 628,
    "start_time": "2022-07-27T12:25:51.173Z"
   },
   {
    "duration": 603,
    "start_time": "2022-07-27T12:25:56.982Z"
   },
   {
    "duration": 613,
    "start_time": "2022-07-27T12:26:08.197Z"
   },
   {
    "duration": 605,
    "start_time": "2022-07-27T12:26:15.826Z"
   },
   {
    "duration": 54287,
    "start_time": "2022-07-27T12:36:48.033Z"
   },
   {
    "duration": 2291,
    "start_time": "2022-07-27T12:37:42.322Z"
   },
   {
    "duration": 56305,
    "start_time": "2022-07-27T12:39:57.169Z"
   },
   {
    "duration": 36,
    "start_time": "2022-07-27T12:42:55.987Z"
   },
   {
    "duration": 4056,
    "start_time": "2022-07-27T12:45:37.673Z"
   },
   {
    "duration": 2349,
    "start_time": "2022-07-27T12:45:50.118Z"
   },
   {
    "duration": 1965,
    "start_time": "2022-07-27T12:46:06.298Z"
   },
   {
    "duration": 2396,
    "start_time": "2022-07-27T12:46:11.441Z"
   },
   {
    "duration": 3132,
    "start_time": "2022-07-27T12:46:19.881Z"
   },
   {
    "duration": 2319,
    "start_time": "2022-07-27T12:46:28.722Z"
   },
   {
    "duration": 9,
    "start_time": "2022-07-27T12:48:00.490Z"
   },
   {
    "duration": 14,
    "start_time": "2022-07-27T12:48:11.822Z"
   },
   {
    "duration": 14,
    "start_time": "2022-07-27T12:49:45.065Z"
   },
   {
    "duration": 87,
    "start_time": "2022-07-27T12:51:31.718Z"
   },
   {
    "duration": 2351,
    "start_time": "2022-07-27T12:51:42.417Z"
   },
   {
    "duration": 34,
    "start_time": "2022-07-27T13:42:22.554Z"
   },
   {
    "duration": 44,
    "start_time": "2022-07-27T13:42:24.094Z"
   },
   {
    "duration": 3,
    "start_time": "2022-07-27T13:42:26.177Z"
   },
   {
    "duration": 12,
    "start_time": "2022-07-27T13:42:28.010Z"
   },
   {
    "duration": 7,
    "start_time": "2022-07-27T13:42:30.806Z"
   },
   {
    "duration": 5,
    "start_time": "2022-07-27T13:42:33.247Z"
   },
   {
    "duration": 19,
    "start_time": "2022-07-27T13:42:35.589Z"
   },
   {
    "duration": 34,
    "start_time": "2022-07-27T13:42:38.887Z"
   },
   {
    "duration": 5,
    "start_time": "2022-07-27T13:42:43.049Z"
   },
   {
    "duration": 4,
    "start_time": "2022-07-27T13:42:45.050Z"
   },
   {
    "duration": 11,
    "start_time": "2022-07-27T13:42:47.585Z"
   },
   {
    "duration": 33,
    "start_time": "2022-07-27T13:42:49.597Z"
   },
   {
    "duration": 12,
    "start_time": "2022-07-27T13:42:55.149Z"
   },
   {
    "duration": 33,
    "start_time": "2022-07-27T13:43:10.086Z"
   },
   {
    "duration": 50,
    "start_time": "2022-07-27T13:43:14.366Z"
   },
   {
    "duration": 42,
    "start_time": "2022-07-27T13:43:14.418Z"
   },
   {
    "duration": 3,
    "start_time": "2022-07-27T13:43:14.462Z"
   },
   {
    "duration": 15,
    "start_time": "2022-07-27T13:43:14.467Z"
   },
   {
    "duration": 7,
    "start_time": "2022-07-27T13:43:14.485Z"
   },
   {
    "duration": 10,
    "start_time": "2022-07-27T13:43:14.494Z"
   },
   {
    "duration": 31,
    "start_time": "2022-07-27T13:43:14.506Z"
   },
   {
    "duration": 20,
    "start_time": "2022-07-27T13:43:14.539Z"
   },
   {
    "duration": 3,
    "start_time": "2022-07-27T13:43:14.561Z"
   },
   {
    "duration": 7,
    "start_time": "2022-07-27T13:43:14.566Z"
   },
   {
    "duration": 11,
    "start_time": "2022-07-27T13:43:14.575Z"
   },
   {
    "duration": 15,
    "start_time": "2022-07-27T13:43:42.063Z"
   },
   {
    "duration": 16,
    "start_time": "2022-07-27T13:44:33.669Z"
   },
   {
    "duration": 5,
    "start_time": "2022-07-27T13:44:43.678Z"
   },
   {
    "duration": 19,
    "start_time": "2022-07-27T13:45:14.778Z"
   },
   {
    "duration": 7,
    "start_time": "2022-07-27T13:45:19.441Z"
   },
   {
    "duration": 7,
    "start_time": "2022-07-27T13:45:22.910Z"
   },
   {
    "duration": 70,
    "start_time": "2022-07-27T13:45:47.754Z"
   },
   {
    "duration": 5,
    "start_time": "2022-07-27T13:45:54.870Z"
   },
   {
    "duration": 56,
    "start_time": "2022-07-27T13:46:17.679Z"
   },
   {
    "duration": 7,
    "start_time": "2022-07-27T13:46:27.782Z"
   },
   {
    "duration": 7,
    "start_time": "2022-07-27T13:46:49.699Z"
   },
   {
    "duration": 13700,
    "start_time": "2022-07-27T13:47:01.134Z"
   },
   {
    "duration": 5,
    "start_time": "2022-07-27T13:47:55.174Z"
   },
   {
    "duration": 927,
    "start_time": "2022-07-27T13:47:57.301Z"
   },
   {
    "duration": 5,
    "start_time": "2022-07-27T13:48:05.413Z"
   },
   {
    "duration": 13438,
    "start_time": "2022-07-27T13:48:15.901Z"
   },
   {
    "duration": 13559,
    "start_time": "2022-07-27T13:48:49.481Z"
   },
   {
    "duration": 16266,
    "start_time": "2022-07-27T13:49:11.567Z"
   },
   {
    "duration": 1603,
    "start_time": "2022-07-27T13:50:02.206Z"
   },
   {
    "duration": 1552,
    "start_time": "2022-07-27T13:51:14.635Z"
   },
   {
    "duration": 4,
    "start_time": "2022-07-27T13:52:12.965Z"
   },
   {
    "duration": 56589,
    "start_time": "2022-07-27T13:52:22.281Z"
   },
   {
    "duration": 627,
    "start_time": "2022-07-27T13:54:15.586Z"
   },
   {
    "duration": 2133,
    "start_time": "2022-07-27T13:56:26.982Z"
   },
   {
    "duration": 130,
    "start_time": "2022-07-27T14:00:18.446Z"
   },
   {
    "duration": 224,
    "start_time": "2022-07-27T14:01:16.057Z"
   },
   {
    "duration": 74,
    "start_time": "2022-07-27T14:01:58.878Z"
   },
   {
    "duration": 80,
    "start_time": "2022-07-27T14:02:19.397Z"
   },
   {
    "duration": 224,
    "start_time": "2022-07-27T14:02:21.177Z"
   },
   {
    "duration": 222,
    "start_time": "2022-07-27T14:02:27.881Z"
   },
   {
    "duration": 57,
    "start_time": "2022-07-27T14:02:57.750Z"
   },
   {
    "duration": 7,
    "start_time": "2022-07-27T14:03:27.615Z"
   },
   {
    "duration": 7,
    "start_time": "2022-07-27T14:03:29.765Z"
   },
   {
    "duration": 52,
    "start_time": "2022-07-27T14:03:31.998Z"
   },
   {
    "duration": 5,
    "start_time": "2022-07-27T14:03:34.258Z"
   },
   {
    "duration": 42,
    "start_time": "2022-07-27T14:03:36.814Z"
   },
   {
    "duration": 6,
    "start_time": "2022-07-27T14:03:39.301Z"
   },
   {
    "duration": 854,
    "start_time": "2022-07-27T14:03:43.489Z"
   },
   {
    "duration": 5,
    "start_time": "2022-07-27T14:03:44.345Z"
   },
   {
    "duration": 12760,
    "start_time": "2022-07-27T14:03:47.921Z"
   },
   {
    "duration": 14713,
    "start_time": "2022-07-27T14:04:09.777Z"
   },
   {
    "duration": 1473,
    "start_time": "2022-07-27T14:04:36.114Z"
   },
   {
    "duration": 1442,
    "start_time": "2022-07-27T14:04:55.834Z"
   },
   {
    "duration": 4,
    "start_time": "2022-07-27T14:05:06.002Z"
   },
   {
    "duration": 50306,
    "start_time": "2022-07-27T14:05:11.193Z"
   },
   {
    "duration": 584,
    "start_time": "2022-07-27T14:06:37.446Z"
   },
   {
    "duration": 587,
    "start_time": "2022-07-27T14:06:41.078Z"
   },
   {
    "duration": 1953,
    "start_time": "2022-07-27T14:06:53.290Z"
   },
   {
    "duration": 224,
    "start_time": "2022-07-27T14:07:05.121Z"
   },
   {
    "duration": 69,
    "start_time": "2022-07-27T14:07:08.125Z"
   },
   {
    "duration": 3,
    "start_time": "2022-07-27T14:07:29.629Z"
   },
   {
    "duration": 54,
    "start_time": "2022-07-27T14:10:46.863Z"
   },
   {
    "duration": 5,
    "start_time": "2022-07-27T14:10:49.198Z"
   },
   {
    "duration": 41,
    "start_time": "2022-07-27T14:11:17.765Z"
   },
   {
    "duration": 5,
    "start_time": "2022-07-27T14:11:20.293Z"
   },
   {
    "duration": 902,
    "start_time": "2022-07-27T14:11:40.049Z"
   },
   {
    "duration": 6,
    "start_time": "2022-07-27T14:11:41.885Z"
   },
   {
    "duration": 12637,
    "start_time": "2022-07-27T14:11:49.101Z"
   },
   {
    "duration": 14761,
    "start_time": "2022-07-27T14:12:01.740Z"
   },
   {
    "duration": 1598,
    "start_time": "2022-07-27T14:13:22.053Z"
   },
   {
    "duration": 1559,
    "start_time": "2022-07-27T14:13:32.630Z"
   },
   {
    "duration": 1647,
    "start_time": "2022-07-27T14:14:39.009Z"
   },
   {
    "duration": 1486,
    "start_time": "2022-07-27T14:15:00.353Z"
   },
   {
    "duration": 4,
    "start_time": "2022-07-27T14:15:05.613Z"
   },
   {
    "duration": 2250,
    "start_time": "2022-07-27T14:15:51.229Z"
   },
   {
    "duration": 1483,
    "start_time": "2022-07-27T15:02:05.274Z"
   },
   {
    "duration": 1529,
    "start_time": "2022-07-27T15:05:11.769Z"
   },
   {
    "duration": 1470,
    "start_time": "2022-07-27T15:06:18.189Z"
   },
   {
    "duration": 50049,
    "start_time": "2022-07-27T15:08:52.142Z"
   },
   {
    "duration": 50117,
    "start_time": "2022-07-27T15:14:12.782Z"
   },
   {
    "duration": 51563,
    "start_time": "2022-07-27T15:18:49.802Z"
   },
   {
    "duration": 31,
    "start_time": "2022-07-27T15:29:34.325Z"
   },
   {
    "duration": 43,
    "start_time": "2022-07-27T15:29:35.469Z"
   },
   {
    "duration": 3,
    "start_time": "2022-07-27T15:29:36.205Z"
   },
   {
    "duration": 11,
    "start_time": "2022-07-27T15:29:37.283Z"
   },
   {
    "duration": 7,
    "start_time": "2022-07-27T15:29:38.282Z"
   },
   {
    "duration": 5,
    "start_time": "2022-07-27T15:29:38.749Z"
   },
   {
    "duration": 19,
    "start_time": "2022-07-27T15:29:39.221Z"
   },
   {
    "duration": 19,
    "start_time": "2022-07-27T15:29:39.837Z"
   },
   {
    "duration": 5,
    "start_time": "2022-07-27T15:29:40.289Z"
   },
   {
    "duration": 4,
    "start_time": "2022-07-27T15:29:40.635Z"
   },
   {
    "duration": 14,
    "start_time": "2022-07-27T15:29:41.085Z"
   },
   {
    "duration": 32,
    "start_time": "2022-07-27T15:29:41.749Z"
   },
   {
    "duration": 15,
    "start_time": "2022-07-27T15:29:42.305Z"
   },
   {
    "duration": 16,
    "start_time": "2022-07-27T15:29:43.181Z"
   },
   {
    "duration": 5,
    "start_time": "2022-07-27T15:29:43.797Z"
   },
   {
    "duration": 4,
    "start_time": "2022-07-27T15:29:44.702Z"
   },
   {
    "duration": 17,
    "start_time": "2022-07-27T15:29:45.324Z"
   },
   {
    "duration": 9,
    "start_time": "2022-07-27T15:29:47.618Z"
   },
   {
    "duration": 7,
    "start_time": "2022-07-27T15:29:48.690Z"
   },
   {
    "duration": 55,
    "start_time": "2022-07-27T15:29:50.234Z"
   },
   {
    "duration": 5,
    "start_time": "2022-07-27T15:29:50.690Z"
   },
   {
    "duration": 93,
    "start_time": "2022-07-27T15:29:51.841Z"
   },
   {
    "duration": 5,
    "start_time": "2022-07-27T15:29:53.523Z"
   },
   {
    "duration": 5,
    "start_time": "2022-07-27T15:30:09.397Z"
   },
   {
    "duration": 41,
    "start_time": "2022-07-27T15:30:11.725Z"
   },
   {
    "duration": 8,
    "start_time": "2022-07-27T15:30:12.566Z"
   },
   {
    "duration": 910,
    "start_time": "2022-07-27T15:30:20.565Z"
   },
   {
    "duration": 6,
    "start_time": "2022-07-27T15:30:21.477Z"
   },
   {
    "duration": 12774,
    "start_time": "2022-07-27T15:30:25.429Z"
   },
   {
    "duration": 1520,
    "start_time": "2022-07-27T15:30:53.099Z"
   },
   {
    "duration": 1523,
    "start_time": "2022-07-27T15:31:53.631Z"
   },
   {
    "duration": 1549,
    "start_time": "2022-07-27T15:32:34.642Z"
   },
   {
    "duration": 4,
    "start_time": "2022-07-27T15:33:05.966Z"
   },
   {
    "duration": 51657,
    "start_time": "2022-07-27T15:33:13.187Z"
   },
   {
    "duration": 588,
    "start_time": "2022-07-27T15:34:34.949Z"
   },
   {
    "duration": 2114,
    "start_time": "2022-07-27T15:34:44.933Z"
   },
   {
    "duration": 2085,
    "start_time": "2022-07-27T15:34:52.338Z"
   },
   {
    "duration": 104,
    "start_time": "2022-07-28T09:11:36.288Z"
   },
   {
    "duration": 1752,
    "start_time": "2022-07-28T09:12:07.485Z"
   },
   {
    "duration": 175,
    "start_time": "2022-07-28T09:12:09.239Z"
   },
   {
    "duration": 4,
    "start_time": "2022-07-28T09:12:09.415Z"
   },
   {
    "duration": 32,
    "start_time": "2022-07-28T09:12:09.421Z"
   },
   {
    "duration": 9,
    "start_time": "2022-07-28T09:12:09.455Z"
   },
   {
    "duration": 21,
    "start_time": "2022-07-28T09:12:09.465Z"
   },
   {
    "duration": 43,
    "start_time": "2022-07-28T09:12:09.488Z"
   },
   {
    "duration": 30,
    "start_time": "2022-07-28T09:12:09.533Z"
   },
   {
    "duration": 2,
    "start_time": "2022-07-28T09:12:09.565Z"
   },
   {
    "duration": 4,
    "start_time": "2022-07-28T09:12:15.250Z"
   },
   {
    "duration": 5,
    "start_time": "2022-07-28T09:12:22.621Z"
   },
   {
    "duration": 4,
    "start_time": "2022-07-28T09:12:28.549Z"
   },
   {
    "duration": 1325,
    "start_time": "2022-07-28T09:12:48.884Z"
   },
   {
    "duration": 1224,
    "start_time": "2022-07-28T09:12:58.021Z"
   },
   {
    "duration": 7,
    "start_time": "2022-07-28T09:13:02.960Z"
   },
   {
    "duration": 4,
    "start_time": "2022-07-28T09:13:10.213Z"
   },
   {
    "duration": 9,
    "start_time": "2022-07-28T09:13:15.632Z"
   },
   {
    "duration": 12,
    "start_time": "2022-07-28T09:13:22.485Z"
   },
   {
    "duration": 11,
    "start_time": "2022-07-28T09:13:33.413Z"
   },
   {
    "duration": 34,
    "start_time": "2022-07-28T09:13:36.549Z"
   },
   {
    "duration": 15,
    "start_time": "2022-07-28T09:14:55.938Z"
   },
   {
    "duration": 10,
    "start_time": "2022-07-28T09:15:09.327Z"
   },
   {
    "duration": 17,
    "start_time": "2022-07-28T09:16:01.808Z"
   },
   {
    "duration": 5,
    "start_time": "2022-07-28T09:16:14.589Z"
   },
   {
    "duration": 7,
    "start_time": "2022-07-28T09:16:49.497Z"
   },
   {
    "duration": 8,
    "start_time": "2022-07-28T09:16:52.100Z"
   },
   {
    "duration": 4,
    "start_time": "2022-07-28T09:16:57.041Z"
   },
   {
    "duration": 5,
    "start_time": "2022-07-28T09:17:16.716Z"
   },
   {
    "duration": 12,
    "start_time": "2022-07-28T09:18:13.063Z"
   },
   {
    "duration": 19,
    "start_time": "2022-07-28T09:18:38.515Z"
   },
   {
    "duration": 31,
    "start_time": "2022-07-28T09:21:27.537Z"
   },
   {
    "duration": 11,
    "start_time": "2022-07-28T09:21:33.289Z"
   },
   {
    "duration": 9,
    "start_time": "2022-07-28T09:21:41.573Z"
   },
   {
    "duration": 20,
    "start_time": "2022-07-28T09:22:20.901Z"
   },
   {
    "duration": 4,
    "start_time": "2022-07-28T09:22:35.493Z"
   },
   {
    "duration": 8,
    "start_time": "2022-07-28T09:22:37.915Z"
   },
   {
    "duration": 5,
    "start_time": "2022-07-28T09:22:42.453Z"
   },
   {
    "duration": 43,
    "start_time": "2022-07-28T09:22:48.525Z"
   },
   {
    "duration": 53,
    "start_time": "2022-07-28T09:22:48.570Z"
   },
   {
    "duration": 4,
    "start_time": "2022-07-28T09:22:48.624Z"
   },
   {
    "duration": 13,
    "start_time": "2022-07-28T09:22:48.629Z"
   },
   {
    "duration": 6,
    "start_time": "2022-07-28T09:22:48.643Z"
   },
   {
    "duration": 4,
    "start_time": "2022-07-28T09:22:48.650Z"
   },
   {
    "duration": 59,
    "start_time": "2022-07-28T09:22:48.656Z"
   },
   {
    "duration": 19,
    "start_time": "2022-07-28T09:22:48.718Z"
   },
   {
    "duration": 2,
    "start_time": "2022-07-28T09:22:48.739Z"
   },
   {
    "duration": 5,
    "start_time": "2022-07-28T09:22:48.743Z"
   },
   {
    "duration": 9,
    "start_time": "2022-07-28T09:22:48.749Z"
   },
   {
    "duration": 8,
    "start_time": "2022-07-28T09:22:48.759Z"
   },
   {
    "duration": 17,
    "start_time": "2022-07-28T09:22:48.769Z"
   },
   {
    "duration": 52,
    "start_time": "2022-07-28T09:22:48.804Z"
   },
   {
    "duration": 11,
    "start_time": "2022-07-28T09:22:48.857Z"
   },
   {
    "duration": 86,
    "start_time": "2022-07-28T09:22:48.869Z"
   },
   {
    "duration": 0,
    "start_time": "2022-07-28T09:22:48.956Z"
   },
   {
    "duration": 0,
    "start_time": "2022-07-28T09:22:48.957Z"
   },
   {
    "duration": 0,
    "start_time": "2022-07-28T09:22:48.959Z"
   },
   {
    "duration": 1,
    "start_time": "2022-07-28T09:22:48.959Z"
   },
   {
    "duration": 4,
    "start_time": "2022-07-28T09:23:03.352Z"
   },
   {
    "duration": 18,
    "start_time": "2022-07-28T09:23:13.741Z"
   },
   {
    "duration": 10,
    "start_time": "2022-07-28T09:23:30.258Z"
   },
   {
    "duration": 14,
    "start_time": "2022-07-28T09:23:50.557Z"
   },
   {
    "duration": 20,
    "start_time": "2022-07-28T09:24:22.545Z"
   },
   {
    "duration": 19,
    "start_time": "2022-07-28T09:24:30.116Z"
   },
   {
    "duration": 24,
    "start_time": "2022-07-28T09:24:52.069Z"
   },
   {
    "duration": 100,
    "start_time": "2022-07-28T09:25:03.029Z"
   },
   {
    "duration": 20,
    "start_time": "2022-07-28T09:25:12.477Z"
   },
   {
    "duration": 19,
    "start_time": "2022-07-28T09:25:21.265Z"
   },
   {
    "duration": 13,
    "start_time": "2022-07-28T09:25:32.105Z"
   },
   {
    "duration": 14,
    "start_time": "2022-07-28T09:25:42.109Z"
   },
   {
    "duration": 10,
    "start_time": "2022-07-28T09:26:33.797Z"
   },
   {
    "duration": 13,
    "start_time": "2022-07-28T09:26:52.442Z"
   },
   {
    "duration": 22,
    "start_time": "2022-07-28T09:27:10.915Z"
   },
   {
    "duration": 11,
    "start_time": "2022-07-28T09:27:22.552Z"
   },
   {
    "duration": 11,
    "start_time": "2022-07-28T09:27:29.638Z"
   },
   {
    "duration": 15,
    "start_time": "2022-07-28T09:27:38.733Z"
   },
   {
    "duration": 31,
    "start_time": "2022-07-28T09:27:47.049Z"
   },
   {
    "duration": 15,
    "start_time": "2022-07-28T09:27:51.476Z"
   },
   {
    "duration": 11,
    "start_time": "2022-07-28T09:28:04.914Z"
   },
   {
    "duration": 10,
    "start_time": "2022-07-28T09:28:16.537Z"
   },
   {
    "duration": 9,
    "start_time": "2022-07-28T09:28:26.325Z"
   },
   {
    "duration": 22,
    "start_time": "2022-07-28T09:28:40.025Z"
   },
   {
    "duration": 9,
    "start_time": "2022-07-28T09:28:42.958Z"
   },
   {
    "duration": 10,
    "start_time": "2022-07-28T09:28:49.509Z"
   },
   {
    "duration": 16,
    "start_time": "2022-07-28T09:29:02.329Z"
   },
   {
    "duration": 43,
    "start_time": "2022-07-28T09:29:58.933Z"
   },
   {
    "duration": 48,
    "start_time": "2022-07-28T09:29:58.978Z"
   },
   {
    "duration": 3,
    "start_time": "2022-07-28T09:29:59.028Z"
   },
   {
    "duration": 13,
    "start_time": "2022-07-28T09:29:59.033Z"
   },
   {
    "duration": 6,
    "start_time": "2022-07-28T09:29:59.048Z"
   },
   {
    "duration": 8,
    "start_time": "2022-07-28T09:29:59.056Z"
   },
   {
    "duration": 43,
    "start_time": "2022-07-28T09:29:59.065Z"
   },
   {
    "duration": 19,
    "start_time": "2022-07-28T09:29:59.110Z"
   },
   {
    "duration": 2,
    "start_time": "2022-07-28T09:29:59.131Z"
   },
   {
    "duration": 9,
    "start_time": "2022-07-28T09:29:59.136Z"
   },
   {
    "duration": 7,
    "start_time": "2022-07-28T09:29:59.146Z"
   },
   {
    "duration": 8,
    "start_time": "2022-07-28T09:29:59.155Z"
   },
   {
    "duration": 38,
    "start_time": "2022-07-28T09:29:59.165Z"
   },
   {
    "duration": 31,
    "start_time": "2022-07-28T09:29:59.205Z"
   },
   {
    "duration": 13,
    "start_time": "2022-07-28T09:29:59.238Z"
   },
   {
    "duration": 73,
    "start_time": "2022-07-28T09:29:59.252Z"
   },
   {
    "duration": 0,
    "start_time": "2022-07-28T09:29:59.327Z"
   },
   {
    "duration": 4,
    "start_time": "2022-07-28T09:29:59.397Z"
   },
   {
    "duration": 9,
    "start_time": "2022-07-28T09:29:59.403Z"
   },
   {
    "duration": 7,
    "start_time": "2022-07-28T09:29:59.414Z"
   },
   {
    "duration": 13,
    "start_time": "2022-07-28T09:29:59.422Z"
   },
   {
    "duration": 11,
    "start_time": "2022-07-28T09:30:13.973Z"
   },
   {
    "duration": 8,
    "start_time": "2022-07-28T09:30:17.268Z"
   },
   {
    "duration": 4,
    "start_time": "2022-07-28T09:30:25.341Z"
   },
   {
    "duration": 25,
    "start_time": "2022-07-28T09:30:29.109Z"
   },
   {
    "duration": 13,
    "start_time": "2022-07-28T09:30:35.217Z"
   },
   {
    "duration": 11,
    "start_time": "2022-07-28T09:30:45.364Z"
   },
   {
    "duration": 14,
    "start_time": "2022-07-28T09:30:56.824Z"
   },
   {
    "duration": 12,
    "start_time": "2022-07-28T09:31:07.573Z"
   },
   {
    "duration": 22,
    "start_time": "2022-07-28T09:31:50.133Z"
   },
   {
    "duration": 36,
    "start_time": "2022-07-28T09:32:38.605Z"
   },
   {
    "duration": 5,
    "start_time": "2022-07-28T09:32:40.873Z"
   },
   {
    "duration": 33,
    "start_time": "2022-07-28T09:32:44.880Z"
   },
   {
    "duration": 8,
    "start_time": "2022-07-28T09:32:47.136Z"
   },
   {
    "duration": 585,
    "start_time": "2022-07-28T09:33:12.141Z"
   },
   {
    "duration": 5,
    "start_time": "2022-07-28T09:33:13.765Z"
   },
   {
    "duration": 8541,
    "start_time": "2022-07-28T09:33:26.501Z"
   },
   {
    "duration": 8373,
    "start_time": "2022-07-28T09:33:49.361Z"
   },
   {
    "duration": 904,
    "start_time": "2022-07-28T09:34:13.589Z"
   },
   {
    "duration": 880,
    "start_time": "2022-07-28T09:35:50.109Z"
   },
   {
    "duration": 18066,
    "start_time": "2022-07-28T09:41:32.064Z"
   },
   {
    "duration": 6,
    "start_time": "2022-07-28T09:45:06.606Z"
   },
   {
    "duration": 37483,
    "start_time": "2022-07-28T09:45:49.031Z"
   },
   {
    "duration": 18759,
    "start_time": "2022-07-28T09:50:10.875Z"
   },
   {
    "duration": 3,
    "start_time": "2022-07-28T09:50:29.636Z"
   },
   {
    "duration": 37265,
    "start_time": "2022-07-28T09:51:07.752Z"
   },
   {
    "duration": 84,
    "start_time": "2022-07-28T10:04:49.416Z"
   },
   {
    "duration": 86,
    "start_time": "2022-07-28T10:04:52.362Z"
   }
  ],
  "kernelspec": {
   "display_name": "Python 3 (ipykernel)",
   "language": "python",
   "name": "python3"
  },
  "language_info": {
   "codemirror_mode": {
    "name": "ipython",
    "version": 3
   },
   "file_extension": ".py",
   "mimetype": "text/x-python",
   "name": "python",
   "nbconvert_exporter": "python",
   "pygments_lexer": "ipython3",
   "version": "3.9.12"
  },
  "toc": {
   "base_numbering": 1,
   "nav_menu": {},
   "number_sections": true,
   "sideBar": true,
   "skip_h1_title": true,
   "title_cell": "Содержание",
   "title_sidebar": "Contents",
   "toc_cell": true,
   "toc_position": {},
   "toc_section_display": true,
   "toc_window_display": false
  }
 },
 "nbformat": 4,
 "nbformat_minor": 2
}
